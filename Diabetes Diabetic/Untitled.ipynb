{
 "cells": [
  {
   "cell_type": "markdown",
   "id": "8ccc917c",
   "metadata": {},
   "source": [
    "# Importing essential libraries"
   ]
  },
  {
   "cell_type": "code",
   "execution_count": 1,
   "id": "d360e3d4",
   "metadata": {
    "ExecuteTime": {
     "end_time": "2022-07-22T02:12:52.255911Z",
     "start_time": "2022-07-22T02:12:49.210781Z"
    }
   },
   "outputs": [],
   "source": [
    "import numpy as np\n",
    "import pandas as pd\n",
    "import matplotlib.pyplot as plt\n",
    "import seaborn as sns\n",
    "from sklearn.model_selection import train_test_split\n",
    "from sklearn import tree\n",
    "from sklearn.metrics import confusion_matrix, classification_report,accuracy_score\n",
    "from sklearn.tree import DecisionTreeClassifier\n",
    "from sklearn.model_selection import GridSearchCV\n",
    "from sklearn.metrics import roc_curve, roc_auc_score\n",
    "from sklearn.ensemble import RandomForestClassifier"
   ]
  },
  {
   "cell_type": "markdown",
   "id": "aef9ea0e",
   "metadata": {},
   "source": [
    "# Data Preparation"
   ]
  },
  {
   "cell_type": "markdown",
   "id": "bd6917ec",
   "metadata": {},
   "source": [
    "## Loading the dataset"
   ]
  },
  {
   "cell_type": "code",
   "execution_count": 2,
   "id": "dc286ee8",
   "metadata": {
    "ExecuteTime": {
     "end_time": "2022-07-22T02:12:52.444288Z",
     "start_time": "2022-07-22T02:12:52.259394Z"
    }
   },
   "outputs": [
    {
     "data": {
      "text/html": [
       "<div>\n",
       "<style scoped>\n",
       "    .dataframe tbody tr th:only-of-type {\n",
       "        vertical-align: middle;\n",
       "    }\n",
       "\n",
       "    .dataframe tbody tr th {\n",
       "        vertical-align: top;\n",
       "    }\n",
       "\n",
       "    .dataframe thead th {\n",
       "        text-align: right;\n",
       "    }\n",
       "</style>\n",
       "<table border=\"1\" class=\"dataframe\">\n",
       "  <thead>\n",
       "    <tr style=\"text-align: right;\">\n",
       "      <th></th>\n",
       "      <th>patient_nbr</th>\n",
       "      <th>race</th>\n",
       "      <th>gender</th>\n",
       "      <th>age</th>\n",
       "      <th>admission_type_id</th>\n",
       "      <th>discharge_disposition_id</th>\n",
       "      <th>admission_source_id</th>\n",
       "      <th>time_in_hospital</th>\n",
       "      <th>num_lab_procedures</th>\n",
       "      <th>num_procedures</th>\n",
       "      <th>num_medications</th>\n",
       "      <th>number_outpatient</th>\n",
       "      <th>number_emergency</th>\n",
       "      <th>number_inpatient</th>\n",
       "      <th>diag_1</th>\n",
       "      <th>diag_2</th>\n",
       "      <th>diag_3</th>\n",
       "      <th>number_diagnoses</th>\n",
       "      <th>change</th>\n",
       "      <th>diabatic</th>\n",
       "    </tr>\n",
       "  </thead>\n",
       "  <tbody>\n",
       "    <tr>\n",
       "      <th>0</th>\n",
       "      <td>8222157</td>\n",
       "      <td>Caucasian</td>\n",
       "      <td>Female</td>\n",
       "      <td>[0-10)</td>\n",
       "      <td>6</td>\n",
       "      <td>25</td>\n",
       "      <td>1</td>\n",
       "      <td>1</td>\n",
       "      <td>41</td>\n",
       "      <td>0</td>\n",
       "      <td>1</td>\n",
       "      <td>0</td>\n",
       "      <td>0</td>\n",
       "      <td>0</td>\n",
       "      <td>250.83</td>\n",
       "      <td>?</td>\n",
       "      <td>?</td>\n",
       "      <td>1</td>\n",
       "      <td>No</td>\n",
       "      <td>No</td>\n",
       "    </tr>\n",
       "    <tr>\n",
       "      <th>1</th>\n",
       "      <td>55629189</td>\n",
       "      <td>Caucasian</td>\n",
       "      <td>Female</td>\n",
       "      <td>[10-20)</td>\n",
       "      <td>1</td>\n",
       "      <td>1</td>\n",
       "      <td>7</td>\n",
       "      <td>3</td>\n",
       "      <td>59</td>\n",
       "      <td>0</td>\n",
       "      <td>18</td>\n",
       "      <td>0</td>\n",
       "      <td>0</td>\n",
       "      <td>0</td>\n",
       "      <td>276</td>\n",
       "      <td>250.01</td>\n",
       "      <td>255</td>\n",
       "      <td>9</td>\n",
       "      <td>Ch</td>\n",
       "      <td>Yes</td>\n",
       "    </tr>\n",
       "    <tr>\n",
       "      <th>2</th>\n",
       "      <td>86047875</td>\n",
       "      <td>AfricanAmerican</td>\n",
       "      <td>Female</td>\n",
       "      <td>[20-30)</td>\n",
       "      <td>1</td>\n",
       "      <td>1</td>\n",
       "      <td>7</td>\n",
       "      <td>2</td>\n",
       "      <td>11</td>\n",
       "      <td>5</td>\n",
       "      <td>13</td>\n",
       "      <td>2</td>\n",
       "      <td>0</td>\n",
       "      <td>1</td>\n",
       "      <td>648</td>\n",
       "      <td>250</td>\n",
       "      <td>V27</td>\n",
       "      <td>6</td>\n",
       "      <td>No</td>\n",
       "      <td>Yes</td>\n",
       "    </tr>\n",
       "    <tr>\n",
       "      <th>3</th>\n",
       "      <td>82442376</td>\n",
       "      <td>Caucasian</td>\n",
       "      <td>Male</td>\n",
       "      <td>[30-40)</td>\n",
       "      <td>1</td>\n",
       "      <td>1</td>\n",
       "      <td>7</td>\n",
       "      <td>2</td>\n",
       "      <td>44</td>\n",
       "      <td>1</td>\n",
       "      <td>16</td>\n",
       "      <td>0</td>\n",
       "      <td>0</td>\n",
       "      <td>0</td>\n",
       "      <td>8</td>\n",
       "      <td>250.43</td>\n",
       "      <td>403</td>\n",
       "      <td>7</td>\n",
       "      <td>Ch</td>\n",
       "      <td>Yes</td>\n",
       "    </tr>\n",
       "    <tr>\n",
       "      <th>4</th>\n",
       "      <td>42519267</td>\n",
       "      <td>Caucasian</td>\n",
       "      <td>Male</td>\n",
       "      <td>[40-50)</td>\n",
       "      <td>1</td>\n",
       "      <td>1</td>\n",
       "      <td>7</td>\n",
       "      <td>1</td>\n",
       "      <td>51</td>\n",
       "      <td>0</td>\n",
       "      <td>8</td>\n",
       "      <td>0</td>\n",
       "      <td>0</td>\n",
       "      <td>0</td>\n",
       "      <td>197</td>\n",
       "      <td>157</td>\n",
       "      <td>250</td>\n",
       "      <td>5</td>\n",
       "      <td>Ch</td>\n",
       "      <td>Yes</td>\n",
       "    </tr>\n",
       "  </tbody>\n",
       "</table>\n",
       "</div>"
      ],
      "text/plain": [
       "   patient_nbr             race  gender      age  admission_type_id  \\\n",
       "0      8222157        Caucasian  Female   [0-10)                  6   \n",
       "1     55629189        Caucasian  Female  [10-20)                  1   \n",
       "2     86047875  AfricanAmerican  Female  [20-30)                  1   \n",
       "3     82442376        Caucasian    Male  [30-40)                  1   \n",
       "4     42519267        Caucasian    Male  [40-50)                  1   \n",
       "\n",
       "   discharge_disposition_id  admission_source_id  time_in_hospital  \\\n",
       "0                        25                    1                 1   \n",
       "1                         1                    7                 3   \n",
       "2                         1                    7                 2   \n",
       "3                         1                    7                 2   \n",
       "4                         1                    7                 1   \n",
       "\n",
       "   num_lab_procedures  num_procedures  num_medications  number_outpatient  \\\n",
       "0                  41               0                1                  0   \n",
       "1                  59               0               18                  0   \n",
       "2                  11               5               13                  2   \n",
       "3                  44               1               16                  0   \n",
       "4                  51               0                8                  0   \n",
       "\n",
       "   number_emergency  number_inpatient  diag_1  diag_2 diag_3  \\\n",
       "0                 0                 0  250.83       ?      ?   \n",
       "1                 0                 0     276  250.01    255   \n",
       "2                 0                 1     648     250    V27   \n",
       "3                 0                 0       8  250.43    403   \n",
       "4                 0                 0     197     157    250   \n",
       "\n",
       "   number_diagnoses change diabatic  \n",
       "0                 1     No       No  \n",
       "1                 9     Ch      Yes  \n",
       "2                 6     No      Yes  \n",
       "3                 7     Ch      Yes  \n",
       "4                 5     Ch      Yes  "
      ]
     },
     "execution_count": 2,
     "metadata": {},
     "output_type": "execute_result"
    }
   ],
   "source": [
    "df=pd.read_csv(r'C:\\Users\\Dell\\Desktop\\CStudy(python)\\C ML\\Diabetes Diabetic\\dataset_diabetes_diabetic_data.csv')\n",
    "df.head()"
   ]
  },
  {
   "cell_type": "markdown",
   "id": "850efb79",
   "metadata": {},
   "source": [
    "## Checking number of features and data present in the dataset"
   ]
  },
  {
   "cell_type": "code",
   "execution_count": 3,
   "id": "043c7e2f",
   "metadata": {
    "ExecuteTime": {
     "end_time": "2022-07-22T02:12:52.459631Z",
     "start_time": "2022-07-22T02:12:52.447376Z"
    }
   },
   "outputs": [
    {
     "data": {
      "text/plain": [
       "(70180, 20)"
      ]
     },
     "execution_count": 3,
     "metadata": {},
     "output_type": "execute_result"
    }
   ],
   "source": [
    "df.shape"
   ]
  },
  {
   "cell_type": "code",
   "execution_count": 4,
   "id": "806f7aed",
   "metadata": {
    "ExecuteTime": {
     "end_time": "2022-07-22T02:12:52.522745Z",
     "start_time": "2022-07-22T02:12:52.465615Z"
    }
   },
   "outputs": [
    {
     "name": "stdout",
     "output_type": "stream",
     "text": [
      "<class 'pandas.core.frame.DataFrame'>\n",
      "RangeIndex: 70180 entries, 0 to 70179\n",
      "Data columns (total 20 columns):\n",
      " #   Column                    Non-Null Count  Dtype \n",
      "---  ------                    --------------  ----- \n",
      " 0   patient_nbr               70180 non-null  int64 \n",
      " 1   race                      70180 non-null  object\n",
      " 2   gender                    70180 non-null  object\n",
      " 3   age                       70180 non-null  object\n",
      " 4   admission_type_id         70180 non-null  int64 \n",
      " 5   discharge_disposition_id  70180 non-null  int64 \n",
      " 6   admission_source_id       70180 non-null  int64 \n",
      " 7   time_in_hospital          70180 non-null  int64 \n",
      " 8   num_lab_procedures        70180 non-null  int64 \n",
      " 9   num_procedures            70180 non-null  int64 \n",
      " 10  num_medications           70180 non-null  int64 \n",
      " 11  number_outpatient         70180 non-null  int64 \n",
      " 12  number_emergency          70180 non-null  int64 \n",
      " 13  number_inpatient          70180 non-null  int64 \n",
      " 14  diag_1                    70180 non-null  object\n",
      " 15  diag_2                    70180 non-null  object\n",
      " 16  diag_3                    70180 non-null  object\n",
      " 17  number_diagnoses          70180 non-null  int64 \n",
      " 18  change                    70180 non-null  object\n",
      " 19  diabatic                  70180 non-null  object\n",
      "dtypes: int64(12), object(8)\n",
      "memory usage: 10.7+ MB\n"
     ]
    }
   ],
   "source": [
    "df.info()"
   ]
  },
  {
   "cell_type": "code",
   "execution_count": 5,
   "id": "ff0e4212",
   "metadata": {
    "ExecuteTime": {
     "end_time": "2022-07-22T02:12:52.667143Z",
     "start_time": "2022-07-22T02:12:52.524740Z"
    }
   },
   "outputs": [
    {
     "data": {
      "text/html": [
       "<div>\n",
       "<style scoped>\n",
       "    .dataframe tbody tr th:only-of-type {\n",
       "        vertical-align: middle;\n",
       "    }\n",
       "\n",
       "    .dataframe tbody tr th {\n",
       "        vertical-align: top;\n",
       "    }\n",
       "\n",
       "    .dataframe thead th {\n",
       "        text-align: right;\n",
       "    }\n",
       "</style>\n",
       "<table border=\"1\" class=\"dataframe\">\n",
       "  <thead>\n",
       "    <tr style=\"text-align: right;\">\n",
       "      <th></th>\n",
       "      <th>patient_nbr</th>\n",
       "      <th>race</th>\n",
       "      <th>gender</th>\n",
       "      <th>age</th>\n",
       "      <th>admission_type_id</th>\n",
       "      <th>discharge_disposition_id</th>\n",
       "      <th>admission_source_id</th>\n",
       "      <th>time_in_hospital</th>\n",
       "      <th>num_lab_procedures</th>\n",
       "      <th>num_procedures</th>\n",
       "      <th>num_medications</th>\n",
       "      <th>number_outpatient</th>\n",
       "      <th>number_emergency</th>\n",
       "      <th>number_inpatient</th>\n",
       "      <th>diag_1</th>\n",
       "      <th>diag_2</th>\n",
       "      <th>diag_3</th>\n",
       "      <th>number_diagnoses</th>\n",
       "      <th>change</th>\n",
       "      <th>diabatic</th>\n",
       "    </tr>\n",
       "  </thead>\n",
       "  <tbody>\n",
       "    <tr>\n",
       "      <th>count</th>\n",
       "      <td>7.018000e+04</td>\n",
       "      <td>70180</td>\n",
       "      <td>70180</td>\n",
       "      <td>70180</td>\n",
       "      <td>70180.000000</td>\n",
       "      <td>70180.000000</td>\n",
       "      <td>70180.000000</td>\n",
       "      <td>70180.000000</td>\n",
       "      <td>70180.000000</td>\n",
       "      <td>70180.000000</td>\n",
       "      <td>70180.000000</td>\n",
       "      <td>70180.000000</td>\n",
       "      <td>70180.000000</td>\n",
       "      <td>70180.00000</td>\n",
       "      <td>70180</td>\n",
       "      <td>70180</td>\n",
       "      <td>70180</td>\n",
       "      <td>70180.000000</td>\n",
       "      <td>70180</td>\n",
       "      <td>70180</td>\n",
       "    </tr>\n",
       "    <tr>\n",
       "      <th>unique</th>\n",
       "      <td>NaN</td>\n",
       "      <td>6</td>\n",
       "      <td>3</td>\n",
       "      <td>10</td>\n",
       "      <td>NaN</td>\n",
       "      <td>NaN</td>\n",
       "      <td>NaN</td>\n",
       "      <td>NaN</td>\n",
       "      <td>NaN</td>\n",
       "      <td>NaN</td>\n",
       "      <td>NaN</td>\n",
       "      <td>NaN</td>\n",
       "      <td>NaN</td>\n",
       "      <td>NaN</td>\n",
       "      <td>685</td>\n",
       "      <td>702</td>\n",
       "      <td>727</td>\n",
       "      <td>NaN</td>\n",
       "      <td>2</td>\n",
       "      <td>2</td>\n",
       "    </tr>\n",
       "    <tr>\n",
       "      <th>top</th>\n",
       "      <td>NaN</td>\n",
       "      <td>Caucasian</td>\n",
       "      <td>Female</td>\n",
       "      <td>[70-80)</td>\n",
       "      <td>NaN</td>\n",
       "      <td>NaN</td>\n",
       "      <td>NaN</td>\n",
       "      <td>NaN</td>\n",
       "      <td>NaN</td>\n",
       "      <td>NaN</td>\n",
       "      <td>NaN</td>\n",
       "      <td>NaN</td>\n",
       "      <td>NaN</td>\n",
       "      <td>NaN</td>\n",
       "      <td>414</td>\n",
       "      <td>428</td>\n",
       "      <td>250</td>\n",
       "      <td>NaN</td>\n",
       "      <td>No</td>\n",
       "      <td>Yes</td>\n",
       "    </tr>\n",
       "    <tr>\n",
       "      <th>freq</th>\n",
       "      <td>NaN</td>\n",
       "      <td>51123</td>\n",
       "      <td>38061</td>\n",
       "      <td>18099</td>\n",
       "      <td>NaN</td>\n",
       "      <td>NaN</td>\n",
       "      <td>NaN</td>\n",
       "      <td>NaN</td>\n",
       "      <td>NaN</td>\n",
       "      <td>NaN</td>\n",
       "      <td>NaN</td>\n",
       "      <td>NaN</td>\n",
       "      <td>NaN</td>\n",
       "      <td>NaN</td>\n",
       "      <td>4939</td>\n",
       "      <td>4782</td>\n",
       "      <td>8332</td>\n",
       "      <td>NaN</td>\n",
       "      <td>43874</td>\n",
       "      <td>46777</td>\n",
       "    </tr>\n",
       "    <tr>\n",
       "      <th>mean</th>\n",
       "      <td>4.589563e+07</td>\n",
       "      <td>NaN</td>\n",
       "      <td>NaN</td>\n",
       "      <td>NaN</td>\n",
       "      <td>2.121730</td>\n",
       "      <td>3.981305</td>\n",
       "      <td>5.926404</td>\n",
       "      <td>4.439370</td>\n",
       "      <td>42.670020</td>\n",
       "      <td>1.350043</td>\n",
       "      <td>15.338772</td>\n",
       "      <td>0.294543</td>\n",
       "      <td>0.156312</td>\n",
       "      <td>0.60513</td>\n",
       "      <td>NaN</td>\n",
       "      <td>NaN</td>\n",
       "      <td>NaN</td>\n",
       "      <td>7.154104</td>\n",
       "      <td>NaN</td>\n",
       "      <td>NaN</td>\n",
       "    </tr>\n",
       "    <tr>\n",
       "      <th>std</th>\n",
       "      <td>3.707033e+07</td>\n",
       "      <td>NaN</td>\n",
       "      <td>NaN</td>\n",
       "      <td>NaN</td>\n",
       "      <td>1.532443</td>\n",
       "      <td>5.657360</td>\n",
       "      <td>4.424962</td>\n",
       "      <td>3.032789</td>\n",
       "      <td>19.197482</td>\n",
       "      <td>1.683676</td>\n",
       "      <td>8.071803</td>\n",
       "      <td>1.052725</td>\n",
       "      <td>0.722395</td>\n",
       "      <td>1.22914</td>\n",
       "      <td>NaN</td>\n",
       "      <td>NaN</td>\n",
       "      <td>NaN</td>\n",
       "      <td>1.992406</td>\n",
       "      <td>NaN</td>\n",
       "      <td>NaN</td>\n",
       "    </tr>\n",
       "    <tr>\n",
       "      <th>min</th>\n",
       "      <td>1.350000e+02</td>\n",
       "      <td>NaN</td>\n",
       "      <td>NaN</td>\n",
       "      <td>NaN</td>\n",
       "      <td>1.000000</td>\n",
       "      <td>1.000000</td>\n",
       "      <td>1.000000</td>\n",
       "      <td>1.000000</td>\n",
       "      <td>1.000000</td>\n",
       "      <td>0.000000</td>\n",
       "      <td>1.000000</td>\n",
       "      <td>0.000000</td>\n",
       "      <td>0.000000</td>\n",
       "      <td>0.00000</td>\n",
       "      <td>NaN</td>\n",
       "      <td>NaN</td>\n",
       "      <td>NaN</td>\n",
       "      <td>1.000000</td>\n",
       "      <td>NaN</td>\n",
       "      <td>NaN</td>\n",
       "    </tr>\n",
       "    <tr>\n",
       "      <th>25%</th>\n",
       "      <td>1.521589e+07</td>\n",
       "      <td>NaN</td>\n",
       "      <td>NaN</td>\n",
       "      <td>NaN</td>\n",
       "      <td>1.000000</td>\n",
       "      <td>1.000000</td>\n",
       "      <td>1.000000</td>\n",
       "      <td>2.000000</td>\n",
       "      <td>31.000000</td>\n",
       "      <td>0.000000</td>\n",
       "      <td>10.000000</td>\n",
       "      <td>0.000000</td>\n",
       "      <td>0.000000</td>\n",
       "      <td>0.00000</td>\n",
       "      <td>NaN</td>\n",
       "      <td>NaN</td>\n",
       "      <td>NaN</td>\n",
       "      <td>5.000000</td>\n",
       "      <td>NaN</td>\n",
       "      <td>NaN</td>\n",
       "    </tr>\n",
       "    <tr>\n",
       "      <th>50%</th>\n",
       "      <td>3.572850e+07</td>\n",
       "      <td>NaN</td>\n",
       "      <td>NaN</td>\n",
       "      <td>NaN</td>\n",
       "      <td>1.000000</td>\n",
       "      <td>1.000000</td>\n",
       "      <td>7.000000</td>\n",
       "      <td>4.000000</td>\n",
       "      <td>44.000000</td>\n",
       "      <td>1.000000</td>\n",
       "      <td>14.000000</td>\n",
       "      <td>0.000000</td>\n",
       "      <td>0.000000</td>\n",
       "      <td>0.00000</td>\n",
       "      <td>NaN</td>\n",
       "      <td>NaN</td>\n",
       "      <td>NaN</td>\n",
       "      <td>8.000000</td>\n",
       "      <td>NaN</td>\n",
       "      <td>NaN</td>\n",
       "    </tr>\n",
       "    <tr>\n",
       "      <th>75%</th>\n",
       "      <td>8.317725e+07</td>\n",
       "      <td>NaN</td>\n",
       "      <td>NaN</td>\n",
       "      <td>NaN</td>\n",
       "      <td>3.000000</td>\n",
       "      <td>5.000000</td>\n",
       "      <td>7.000000</td>\n",
       "      <td>6.000000</td>\n",
       "      <td>56.000000</td>\n",
       "      <td>2.000000</td>\n",
       "      <td>19.000000</td>\n",
       "      <td>0.000000</td>\n",
       "      <td>0.000000</td>\n",
       "      <td>1.00000</td>\n",
       "      <td>NaN</td>\n",
       "      <td>NaN</td>\n",
       "      <td>NaN</td>\n",
       "      <td>9.000000</td>\n",
       "      <td>NaN</td>\n",
       "      <td>NaN</td>\n",
       "    </tr>\n",
       "    <tr>\n",
       "      <th>max</th>\n",
       "      <td>1.893511e+08</td>\n",
       "      <td>NaN</td>\n",
       "      <td>NaN</td>\n",
       "      <td>NaN</td>\n",
       "      <td>8.000000</td>\n",
       "      <td>28.000000</td>\n",
       "      <td>20.000000</td>\n",
       "      <td>14.000000</td>\n",
       "      <td>129.000000</td>\n",
       "      <td>6.000000</td>\n",
       "      <td>81.000000</td>\n",
       "      <td>36.000000</td>\n",
       "      <td>64.000000</td>\n",
       "      <td>21.00000</td>\n",
       "      <td>NaN</td>\n",
       "      <td>NaN</td>\n",
       "      <td>NaN</td>\n",
       "      <td>16.000000</td>\n",
       "      <td>NaN</td>\n",
       "      <td>NaN</td>\n",
       "    </tr>\n",
       "  </tbody>\n",
       "</table>\n",
       "</div>"
      ],
      "text/plain": [
       "         patient_nbr       race  gender      age  admission_type_id  \\\n",
       "count   7.018000e+04      70180   70180    70180       70180.000000   \n",
       "unique           NaN          6       3       10                NaN   \n",
       "top              NaN  Caucasian  Female  [70-80)                NaN   \n",
       "freq             NaN      51123   38061    18099                NaN   \n",
       "mean    4.589563e+07        NaN     NaN      NaN           2.121730   \n",
       "std     3.707033e+07        NaN     NaN      NaN           1.532443   \n",
       "min     1.350000e+02        NaN     NaN      NaN           1.000000   \n",
       "25%     1.521589e+07        NaN     NaN      NaN           1.000000   \n",
       "50%     3.572850e+07        NaN     NaN      NaN           1.000000   \n",
       "75%     8.317725e+07        NaN     NaN      NaN           3.000000   \n",
       "max     1.893511e+08        NaN     NaN      NaN           8.000000   \n",
       "\n",
       "        discharge_disposition_id  admission_source_id  time_in_hospital  \\\n",
       "count               70180.000000         70180.000000      70180.000000   \n",
       "unique                       NaN                  NaN               NaN   \n",
       "top                          NaN                  NaN               NaN   \n",
       "freq                         NaN                  NaN               NaN   \n",
       "mean                    3.981305             5.926404          4.439370   \n",
       "std                     5.657360             4.424962          3.032789   \n",
       "min                     1.000000             1.000000          1.000000   \n",
       "25%                     1.000000             1.000000          2.000000   \n",
       "50%                     1.000000             7.000000          4.000000   \n",
       "75%                     5.000000             7.000000          6.000000   \n",
       "max                    28.000000            20.000000         14.000000   \n",
       "\n",
       "        num_lab_procedures  num_procedures  num_medications  \\\n",
       "count         70180.000000    70180.000000     70180.000000   \n",
       "unique                 NaN             NaN              NaN   \n",
       "top                    NaN             NaN              NaN   \n",
       "freq                   NaN             NaN              NaN   \n",
       "mean             42.670020        1.350043        15.338772   \n",
       "std              19.197482        1.683676         8.071803   \n",
       "min               1.000000        0.000000         1.000000   \n",
       "25%              31.000000        0.000000        10.000000   \n",
       "50%              44.000000        1.000000        14.000000   \n",
       "75%              56.000000        2.000000        19.000000   \n",
       "max             129.000000        6.000000        81.000000   \n",
       "\n",
       "        number_outpatient  number_emergency  number_inpatient diag_1 diag_2  \\\n",
       "count        70180.000000      70180.000000       70180.00000  70180  70180   \n",
       "unique                NaN               NaN               NaN    685    702   \n",
       "top                   NaN               NaN               NaN    414    428   \n",
       "freq                  NaN               NaN               NaN   4939   4782   \n",
       "mean             0.294543          0.156312           0.60513    NaN    NaN   \n",
       "std              1.052725          0.722395           1.22914    NaN    NaN   \n",
       "min              0.000000          0.000000           0.00000    NaN    NaN   \n",
       "25%              0.000000          0.000000           0.00000    NaN    NaN   \n",
       "50%              0.000000          0.000000           0.00000    NaN    NaN   \n",
       "75%              0.000000          0.000000           1.00000    NaN    NaN   \n",
       "max             36.000000         64.000000          21.00000    NaN    NaN   \n",
       "\n",
       "       diag_3  number_diagnoses change diabatic  \n",
       "count   70180      70180.000000  70180    70180  \n",
       "unique    727               NaN      2        2  \n",
       "top       250               NaN     No      Yes  \n",
       "freq     8332               NaN  43874    46777  \n",
       "mean      NaN          7.154104    NaN      NaN  \n",
       "std       NaN          1.992406    NaN      NaN  \n",
       "min       NaN          1.000000    NaN      NaN  \n",
       "25%       NaN          5.000000    NaN      NaN  \n",
       "50%       NaN          8.000000    NaN      NaN  \n",
       "75%       NaN          9.000000    NaN      NaN  \n",
       "max       NaN         16.000000    NaN      NaN  "
      ]
     },
     "execution_count": 5,
     "metadata": {},
     "output_type": "execute_result"
    }
   ],
   "source": [
    "df.describe(include=\"all\")"
   ]
  },
  {
   "cell_type": "markdown",
   "id": "2c2eb9d4",
   "metadata": {},
   "source": [
    "## Checking null values in dataset"
   ]
  },
  {
   "cell_type": "code",
   "execution_count": 6,
   "id": "015ee443",
   "metadata": {
    "ExecuteTime": {
     "end_time": "2022-07-22T02:12:52.712853Z",
     "start_time": "2022-07-22T02:12:52.668389Z"
    }
   },
   "outputs": [
    {
     "data": {
      "text/plain": [
       "patient_nbr                 0\n",
       "race                        0\n",
       "gender                      0\n",
       "age                         0\n",
       "admission_type_id           0\n",
       "discharge_disposition_id    0\n",
       "admission_source_id         0\n",
       "time_in_hospital            0\n",
       "num_lab_procedures          0\n",
       "num_procedures              0\n",
       "num_medications             0\n",
       "number_outpatient           0\n",
       "number_emergency            0\n",
       "number_inpatient            0\n",
       "diag_1                      0\n",
       "diag_2                      0\n",
       "diag_3                      0\n",
       "number_diagnoses            0\n",
       "change                      0\n",
       "diabatic                    0\n",
       "dtype: int64"
      ]
     },
     "execution_count": 6,
     "metadata": {},
     "output_type": "execute_result"
    }
   ],
   "source": [
    "df.isnull().sum()"
   ]
  },
  {
   "cell_type": "code",
   "execution_count": 7,
   "id": "a12fdb9f",
   "metadata": {
    "ExecuteTime": {
     "end_time": "2022-07-22T02:12:52.827247Z",
     "start_time": "2022-07-22T02:12:52.716179Z"
    }
   },
   "outputs": [
    {
     "name": "stdout",
     "output_type": "stream",
     "text": [
      "patient_nbr 52500\n",
      "race 6\n",
      "gender 3\n",
      "age 10\n",
      "admission_type_id 8\n",
      "discharge_disposition_id 26\n",
      "admission_source_id 13\n",
      "time_in_hospital 14\n",
      "num_lab_procedures 116\n",
      "num_procedures 7\n",
      "num_medications 74\n",
      "number_outpatient 29\n",
      "number_emergency 19\n",
      "number_inpatient 21\n",
      "diag_1 685\n",
      "diag_2 702\n",
      "diag_3 727\n",
      "number_diagnoses 16\n",
      "change 2\n",
      "diabatic 2\n"
     ]
    }
   ],
   "source": [
    "for i in df.columns:\n",
    "    print(i,df[i].nunique())"
   ]
  },
  {
   "cell_type": "markdown",
   "id": "c646b4df",
   "metadata": {
    "ExecuteTime": {
     "end_time": "2022-07-21T18:01:02.101337Z",
     "start_time": "2022-07-21T18:01:02.095461Z"
    }
   },
   "source": [
    "## Dropping the unnecessary data columns and rows"
   ]
  },
  {
   "cell_type": "code",
   "execution_count": 8,
   "id": "e4d6b7f5",
   "metadata": {
    "ExecuteTime": {
     "end_time": "2022-07-22T02:12:52.860549Z",
     "start_time": "2022-07-22T02:12:52.830270Z"
    }
   },
   "outputs": [],
   "source": [
    "df.drop(['patient_nbr','diag_1','diag_2','diag_3'],axis=1,inplace=True)"
   ]
  },
  {
   "cell_type": "code",
   "execution_count": 9,
   "id": "b6456d55",
   "metadata": {
    "ExecuteTime": {
     "end_time": "2022-07-22T02:12:52.937692Z",
     "start_time": "2022-07-22T02:12:52.863563Z"
    }
   },
   "outputs": [],
   "source": [
    "df.drop_duplicates(inplace=True)"
   ]
  },
  {
   "cell_type": "code",
   "execution_count": 10,
   "id": "803113b8",
   "metadata": {
    "ExecuteTime": {
     "end_time": "2022-07-22T02:13:00.153819Z",
     "start_time": "2022-07-22T02:12:52.944016Z"
    }
   },
   "outputs": [
    {
     "name": "stdout",
     "output_type": "stream",
     "text": [
      "1461\n"
     ]
    }
   ],
   "source": [
    "count = 0\n",
    "for index, row in df.iterrows():\n",
    "    if row['race'] == '?':\n",
    "        count += 1\n",
    "print(count)"
   ]
  },
  {
   "cell_type": "code",
   "execution_count": 11,
   "id": "97a827dd",
   "metadata": {
    "ExecuteTime": {
     "end_time": "2022-07-22T02:13:00.201356Z",
     "start_time": "2022-07-22T02:13:00.157312Z"
    }
   },
   "outputs": [],
   "source": [
    "df.drop(df.loc[df['race']=='?'].index, inplace=True)"
   ]
  },
  {
   "cell_type": "markdown",
   "id": "e4df68e7",
   "metadata": {},
   "source": [
    "# Splitting data into Categorical & Numerical"
   ]
  },
  {
   "cell_type": "code",
   "execution_count": 12,
   "id": "518800ef",
   "metadata": {
    "ExecuteTime": {
     "end_time": "2022-07-22T02:13:00.264125Z",
     "start_time": "2022-07-22T02:13:00.203783Z"
    }
   },
   "outputs": [],
   "source": [
    "df_cat = pd.DataFrame()\n",
    "df_num = pd.DataFrame()\n",
    "for y in df.columns:\n",
    "    if df[y].dtype == object:\n",
    "        df_cat[y] = df[y]\n",
    "    else:\n",
    "        df_num[y] = df[y]"
   ]
  },
  {
   "cell_type": "markdown",
   "id": "0484ecad",
   "metadata": {},
   "source": [
    "## Finding Correlation on numerical data"
   ]
  },
  {
   "cell_type": "code",
   "execution_count": 13,
   "id": "143fe104",
   "metadata": {
    "ExecuteTime": {
     "end_time": "2022-07-22T02:13:00.370977Z",
     "start_time": "2022-07-22T02:13:00.266153Z"
    }
   },
   "outputs": [
    {
     "data": {
      "text/html": [
       "<div>\n",
       "<style scoped>\n",
       "    .dataframe tbody tr th:only-of-type {\n",
       "        vertical-align: middle;\n",
       "    }\n",
       "\n",
       "    .dataframe tbody tr th {\n",
       "        vertical-align: top;\n",
       "    }\n",
       "\n",
       "    .dataframe thead th {\n",
       "        text-align: right;\n",
       "    }\n",
       "</style>\n",
       "<table border=\"1\" class=\"dataframe\">\n",
       "  <thead>\n",
       "    <tr style=\"text-align: right;\">\n",
       "      <th></th>\n",
       "      <th>admission_type_id</th>\n",
       "      <th>discharge_disposition_id</th>\n",
       "      <th>admission_source_id</th>\n",
       "      <th>time_in_hospital</th>\n",
       "      <th>num_lab_procedures</th>\n",
       "      <th>num_procedures</th>\n",
       "      <th>num_medications</th>\n",
       "      <th>number_outpatient</th>\n",
       "      <th>number_emergency</th>\n",
       "      <th>number_inpatient</th>\n",
       "      <th>number_diagnoses</th>\n",
       "    </tr>\n",
       "  </thead>\n",
       "  <tbody>\n",
       "    <tr>\n",
       "      <th>admission_type_id</th>\n",
       "      <td>1.000000</td>\n",
       "      <td>0.094989</td>\n",
       "      <td>0.206046</td>\n",
       "      <td>-0.021027</td>\n",
       "      <td>-0.156627</td>\n",
       "      <td>0.102511</td>\n",
       "      <td>0.094643</td>\n",
       "      <td>0.062126</td>\n",
       "      <td>-0.005000</td>\n",
       "      <td>-0.033084</td>\n",
       "      <td>-0.093156</td>\n",
       "    </tr>\n",
       "    <tr>\n",
       "      <th>discharge_disposition_id</th>\n",
       "      <td>0.094989</td>\n",
       "      <td>1.000000</td>\n",
       "      <td>0.016330</td>\n",
       "      <td>0.157960</td>\n",
       "      <td>0.004132</td>\n",
       "      <td>0.017667</td>\n",
       "      <td>0.113736</td>\n",
       "      <td>-0.015012</td>\n",
       "      <td>-0.026731</td>\n",
       "      <td>0.016869</td>\n",
       "      <td>0.052893</td>\n",
       "    </tr>\n",
       "    <tr>\n",
       "      <th>admission_source_id</th>\n",
       "      <td>0.206046</td>\n",
       "      <td>0.016330</td>\n",
       "      <td>1.000000</td>\n",
       "      <td>-0.016140</td>\n",
       "      <td>-0.016498</td>\n",
       "      <td>-0.135859</td>\n",
       "      <td>-0.041585</td>\n",
       "      <td>0.070056</td>\n",
       "      <td>0.082318</td>\n",
       "      <td>0.036220</td>\n",
       "      <td>0.077672</td>\n",
       "    </tr>\n",
       "    <tr>\n",
       "      <th>time_in_hospital</th>\n",
       "      <td>-0.021027</td>\n",
       "      <td>0.157960</td>\n",
       "      <td>-0.016140</td>\n",
       "      <td>1.000000</td>\n",
       "      <td>0.285330</td>\n",
       "      <td>0.203993</td>\n",
       "      <td>0.464585</td>\n",
       "      <td>-0.015432</td>\n",
       "      <td>-0.017524</td>\n",
       "      <td>0.078187</td>\n",
       "      <td>0.237663</td>\n",
       "    </tr>\n",
       "    <tr>\n",
       "      <th>num_lab_procedures</th>\n",
       "      <td>-0.156627</td>\n",
       "      <td>0.004132</td>\n",
       "      <td>-0.016498</td>\n",
       "      <td>0.285330</td>\n",
       "      <td>1.000000</td>\n",
       "      <td>0.068775</td>\n",
       "      <td>0.239190</td>\n",
       "      <td>-0.015064</td>\n",
       "      <td>-0.015885</td>\n",
       "      <td>0.046696</td>\n",
       "      <td>0.133315</td>\n",
       "    </tr>\n",
       "    <tr>\n",
       "      <th>num_procedures</th>\n",
       "      <td>0.102511</td>\n",
       "      <td>0.017667</td>\n",
       "      <td>-0.135859</td>\n",
       "      <td>0.203993</td>\n",
       "      <td>0.068775</td>\n",
       "      <td>1.000000</td>\n",
       "      <td>0.401460</td>\n",
       "      <td>-0.018922</td>\n",
       "      <td>-0.040602</td>\n",
       "      <td>-0.063190</td>\n",
       "      <td>0.082361</td>\n",
       "    </tr>\n",
       "    <tr>\n",
       "      <th>num_medications</th>\n",
       "      <td>0.094643</td>\n",
       "      <td>0.113736</td>\n",
       "      <td>-0.041585</td>\n",
       "      <td>0.464585</td>\n",
       "      <td>0.239190</td>\n",
       "      <td>0.401460</td>\n",
       "      <td>1.000000</td>\n",
       "      <td>0.039892</td>\n",
       "      <td>0.012614</td>\n",
       "      <td>0.058819</td>\n",
       "      <td>0.240678</td>\n",
       "    </tr>\n",
       "    <tr>\n",
       "      <th>number_outpatient</th>\n",
       "      <td>0.062126</td>\n",
       "      <td>-0.015012</td>\n",
       "      <td>0.070056</td>\n",
       "      <td>-0.015432</td>\n",
       "      <td>-0.015064</td>\n",
       "      <td>-0.018922</td>\n",
       "      <td>0.039892</td>\n",
       "      <td>1.000000</td>\n",
       "      <td>0.115601</td>\n",
       "      <td>0.103822</td>\n",
       "      <td>0.094555</td>\n",
       "    </tr>\n",
       "    <tr>\n",
       "      <th>number_emergency</th>\n",
       "      <td>-0.005000</td>\n",
       "      <td>-0.026731</td>\n",
       "      <td>0.082318</td>\n",
       "      <td>-0.017524</td>\n",
       "      <td>-0.015885</td>\n",
       "      <td>-0.040602</td>\n",
       "      <td>0.012614</td>\n",
       "      <td>0.115601</td>\n",
       "      <td>1.000000</td>\n",
       "      <td>0.256232</td>\n",
       "      <td>0.051257</td>\n",
       "    </tr>\n",
       "    <tr>\n",
       "      <th>number_inpatient</th>\n",
       "      <td>-0.033084</td>\n",
       "      <td>0.016869</td>\n",
       "      <td>0.036220</td>\n",
       "      <td>0.078187</td>\n",
       "      <td>0.046696</td>\n",
       "      <td>-0.063190</td>\n",
       "      <td>0.058819</td>\n",
       "      <td>0.103822</td>\n",
       "      <td>0.256232</td>\n",
       "      <td>1.000000</td>\n",
       "      <td>0.111181</td>\n",
       "    </tr>\n",
       "    <tr>\n",
       "      <th>number_diagnoses</th>\n",
       "      <td>-0.093156</td>\n",
       "      <td>0.052893</td>\n",
       "      <td>0.077672</td>\n",
       "      <td>0.237663</td>\n",
       "      <td>0.133315</td>\n",
       "      <td>0.082361</td>\n",
       "      <td>0.240678</td>\n",
       "      <td>0.094555</td>\n",
       "      <td>0.051257</td>\n",
       "      <td>0.111181</td>\n",
       "      <td>1.000000</td>\n",
       "    </tr>\n",
       "  </tbody>\n",
       "</table>\n",
       "</div>"
      ],
      "text/plain": [
       "                          admission_type_id  discharge_disposition_id  \\\n",
       "admission_type_id                  1.000000                  0.094989   \n",
       "discharge_disposition_id           0.094989                  1.000000   \n",
       "admission_source_id                0.206046                  0.016330   \n",
       "time_in_hospital                  -0.021027                  0.157960   \n",
       "num_lab_procedures                -0.156627                  0.004132   \n",
       "num_procedures                     0.102511                  0.017667   \n",
       "num_medications                    0.094643                  0.113736   \n",
       "number_outpatient                  0.062126                 -0.015012   \n",
       "number_emergency                  -0.005000                 -0.026731   \n",
       "number_inpatient                  -0.033084                  0.016869   \n",
       "number_diagnoses                  -0.093156                  0.052893   \n",
       "\n",
       "                          admission_source_id  time_in_hospital  \\\n",
       "admission_type_id                    0.206046         -0.021027   \n",
       "discharge_disposition_id             0.016330          0.157960   \n",
       "admission_source_id                  1.000000         -0.016140   \n",
       "time_in_hospital                    -0.016140          1.000000   \n",
       "num_lab_procedures                  -0.016498          0.285330   \n",
       "num_procedures                      -0.135859          0.203993   \n",
       "num_medications                     -0.041585          0.464585   \n",
       "number_outpatient                    0.070056         -0.015432   \n",
       "number_emergency                     0.082318         -0.017524   \n",
       "number_inpatient                     0.036220          0.078187   \n",
       "number_diagnoses                     0.077672          0.237663   \n",
       "\n",
       "                          num_lab_procedures  num_procedures  num_medications  \\\n",
       "admission_type_id                  -0.156627        0.102511         0.094643   \n",
       "discharge_disposition_id            0.004132        0.017667         0.113736   \n",
       "admission_source_id                -0.016498       -0.135859        -0.041585   \n",
       "time_in_hospital                    0.285330        0.203993         0.464585   \n",
       "num_lab_procedures                  1.000000        0.068775         0.239190   \n",
       "num_procedures                      0.068775        1.000000         0.401460   \n",
       "num_medications                     0.239190        0.401460         1.000000   \n",
       "number_outpatient                  -0.015064       -0.018922         0.039892   \n",
       "number_emergency                   -0.015885       -0.040602         0.012614   \n",
       "number_inpatient                    0.046696       -0.063190         0.058819   \n",
       "number_diagnoses                    0.133315        0.082361         0.240678   \n",
       "\n",
       "                          number_outpatient  number_emergency  \\\n",
       "admission_type_id                  0.062126         -0.005000   \n",
       "discharge_disposition_id          -0.015012         -0.026731   \n",
       "admission_source_id                0.070056          0.082318   \n",
       "time_in_hospital                  -0.015432         -0.017524   \n",
       "num_lab_procedures                -0.015064         -0.015885   \n",
       "num_procedures                    -0.018922         -0.040602   \n",
       "num_medications                    0.039892          0.012614   \n",
       "number_outpatient                  1.000000          0.115601   \n",
       "number_emergency                   0.115601          1.000000   \n",
       "number_inpatient                   0.103822          0.256232   \n",
       "number_diagnoses                   0.094555          0.051257   \n",
       "\n",
       "                          number_inpatient  number_diagnoses  \n",
       "admission_type_id                -0.033084         -0.093156  \n",
       "discharge_disposition_id          0.016869          0.052893  \n",
       "admission_source_id               0.036220          0.077672  \n",
       "time_in_hospital                  0.078187          0.237663  \n",
       "num_lab_procedures                0.046696          0.133315  \n",
       "num_procedures                   -0.063190          0.082361  \n",
       "num_medications                   0.058819          0.240678  \n",
       "number_outpatient                 0.103822          0.094555  \n",
       "number_emergency                  0.256232          0.051257  \n",
       "number_inpatient                  1.000000          0.111181  \n",
       "number_diagnoses                  0.111181          1.000000  "
      ]
     },
     "execution_count": 13,
     "metadata": {},
     "output_type": "execute_result"
    }
   ],
   "source": [
    "corr = df_num.corr()\n",
    "corr"
   ]
  },
  {
   "cell_type": "markdown",
   "id": "35b1c15f",
   "metadata": {},
   "source": [
    "## Heatmap"
   ]
  },
  {
   "cell_type": "code",
   "execution_count": 14,
   "id": "b617ce72",
   "metadata": {
    "ExecuteTime": {
     "end_time": "2022-07-22T02:13:02.102847Z",
     "start_time": "2022-07-22T02:13:00.376355Z"
    }
   },
   "outputs": [
    {
     "data": {
      "image/png": "[encoded data removed]",
      "text/plain": [
       "<Figure size 1440x720 with 2 Axes>"
      ]
     },
     "metadata": {
      "needs_background": "light"
     },
     "output_type": "display_data"
    }
   ],
   "source": [
    "plt.figure(figsize = (20,10))\n",
    "sns.heatmap(corr,annot = True)\n",
    "plt.show()"
   ]
  },
  {
   "cell_type": "code",
   "execution_count": 15,
   "id": "f4c2dead",
   "metadata": {
    "ExecuteTime": {
     "end_time": "2022-07-22T02:13:02.120232Z",
     "start_time": "2022-07-22T02:13:02.106117Z"
    }
   },
   "outputs": [
    {
     "data": {
      "text/plain": [
       "(68697, 16)"
      ]
     },
     "execution_count": 15,
     "metadata": {},
     "output_type": "execute_result"
    }
   ],
   "source": [
    "df.shape"
   ]
  },
  {
   "cell_type": "markdown",
   "id": "a537cd6c",
   "metadata": {},
   "source": [
    "# Label Encoding"
   ]
  },
  {
   "cell_type": "code",
   "execution_count": 16,
   "id": "41526ba7",
   "metadata": {
    "ExecuteTime": {
     "end_time": "2022-07-22T02:13:02.203857Z",
     "start_time": "2022-07-22T02:13:02.123742Z"
    }
   },
   "outputs": [
    {
     "name": "stdout",
     "output_type": "stream",
     "text": [
      "race \n",
      " Caucasian          51107\n",
      "AfricanAmerican    15002\n",
      "Hispanic            1341\n",
      "Other                874\n",
      "Asian                373\n",
      "Name: race, dtype: int64\n",
      "gender \n",
      " Female             37295\n",
      "Male               31401\n",
      "Unknown/Invalid        1\n",
      "Name: gender, dtype: int64\n",
      "age \n",
      " [70-80)     17734\n",
      "[60-70)     14896\n",
      "[50-60)     11873\n",
      "[80-90)     11027\n",
      "[40-50)      6788\n",
      "[30-40)      2721\n",
      "[90-100)     1804\n",
      "[20-30)      1140\n",
      "[10-20)       559\n",
      "[0-10)        155\n",
      "Name: age, dtype: int64\n",
      "change \n",
      " No    42945\n",
      "Ch    25752\n",
      "Name: change, dtype: int64\n",
      "diabatic \n",
      " Yes    45706\n",
      "No     22991\n",
      "Name: diabatic, dtype: int64\n"
     ]
    }
   ],
   "source": [
    "for i in df_cat.columns:\n",
    "    print(i,\"\\n\",df[i].value_counts())"
   ]
  },
  {
   "cell_type": "code",
   "execution_count": 17,
   "id": "df7eb80c",
   "metadata": {
    "ExecuteTime": {
     "end_time": "2022-07-22T02:13:02.511955Z",
     "start_time": "2022-07-22T02:13:02.208422Z"
    }
   },
   "outputs": [
    {
     "data": {
      "text/html": [
       "<div>\n",
       "<style scoped>\n",
       "    .dataframe tbody tr th:only-of-type {\n",
       "        vertical-align: middle;\n",
       "    }\n",
       "\n",
       "    .dataframe tbody tr th {\n",
       "        vertical-align: top;\n",
       "    }\n",
       "\n",
       "    .dataframe thead th {\n",
       "        text-align: right;\n",
       "    }\n",
       "</style>\n",
       "<table border=\"1\" class=\"dataframe\">\n",
       "  <thead>\n",
       "    <tr style=\"text-align: right;\">\n",
       "      <th></th>\n",
       "      <th>race</th>\n",
       "      <th>gender</th>\n",
       "      <th>age</th>\n",
       "      <th>admission_type_id</th>\n",
       "      <th>discharge_disposition_id</th>\n",
       "      <th>admission_source_id</th>\n",
       "      <th>time_in_hospital</th>\n",
       "      <th>num_lab_procedures</th>\n",
       "      <th>num_procedures</th>\n",
       "      <th>num_medications</th>\n",
       "      <th>number_outpatient</th>\n",
       "      <th>number_emergency</th>\n",
       "      <th>number_inpatient</th>\n",
       "      <th>number_diagnoses</th>\n",
       "      <th>change</th>\n",
       "      <th>diabatic</th>\n",
       "    </tr>\n",
       "  </thead>\n",
       "  <tbody>\n",
       "    <tr>\n",
       "      <th>0</th>\n",
       "      <td>2</td>\n",
       "      <td>0</td>\n",
       "      <td>0</td>\n",
       "      <td>6</td>\n",
       "      <td>25</td>\n",
       "      <td>1</td>\n",
       "      <td>1</td>\n",
       "      <td>41</td>\n",
       "      <td>0</td>\n",
       "      <td>1</td>\n",
       "      <td>0</td>\n",
       "      <td>0</td>\n",
       "      <td>0</td>\n",
       "      <td>1</td>\n",
       "      <td>1</td>\n",
       "      <td>0</td>\n",
       "    </tr>\n",
       "    <tr>\n",
       "      <th>1</th>\n",
       "      <td>2</td>\n",
       "      <td>0</td>\n",
       "      <td>1</td>\n",
       "      <td>1</td>\n",
       "      <td>1</td>\n",
       "      <td>7</td>\n",
       "      <td>3</td>\n",
       "      <td>59</td>\n",
       "      <td>0</td>\n",
       "      <td>18</td>\n",
       "      <td>0</td>\n",
       "      <td>0</td>\n",
       "      <td>0</td>\n",
       "      <td>9</td>\n",
       "      <td>0</td>\n",
       "      <td>1</td>\n",
       "    </tr>\n",
       "    <tr>\n",
       "      <th>2</th>\n",
       "      <td>0</td>\n",
       "      <td>0</td>\n",
       "      <td>2</td>\n",
       "      <td>1</td>\n",
       "      <td>1</td>\n",
       "      <td>7</td>\n",
       "      <td>2</td>\n",
       "      <td>11</td>\n",
       "      <td>5</td>\n",
       "      <td>13</td>\n",
       "      <td>2</td>\n",
       "      <td>0</td>\n",
       "      <td>1</td>\n",
       "      <td>6</td>\n",
       "      <td>1</td>\n",
       "      <td>1</td>\n",
       "    </tr>\n",
       "    <tr>\n",
       "      <th>3</th>\n",
       "      <td>2</td>\n",
       "      <td>1</td>\n",
       "      <td>3</td>\n",
       "      <td>1</td>\n",
       "      <td>1</td>\n",
       "      <td>7</td>\n",
       "      <td>2</td>\n",
       "      <td>44</td>\n",
       "      <td>1</td>\n",
       "      <td>16</td>\n",
       "      <td>0</td>\n",
       "      <td>0</td>\n",
       "      <td>0</td>\n",
       "      <td>7</td>\n",
       "      <td>0</td>\n",
       "      <td>1</td>\n",
       "    </tr>\n",
       "    <tr>\n",
       "      <th>4</th>\n",
       "      <td>2</td>\n",
       "      <td>1</td>\n",
       "      <td>4</td>\n",
       "      <td>1</td>\n",
       "      <td>1</td>\n",
       "      <td>7</td>\n",
       "      <td>1</td>\n",
       "      <td>51</td>\n",
       "      <td>0</td>\n",
       "      <td>8</td>\n",
       "      <td>0</td>\n",
       "      <td>0</td>\n",
       "      <td>0</td>\n",
       "      <td>5</td>\n",
       "      <td>0</td>\n",
       "      <td>1</td>\n",
       "    </tr>\n",
       "    <tr>\n",
       "      <th>...</th>\n",
       "      <td>...</td>\n",
       "      <td>...</td>\n",
       "      <td>...</td>\n",
       "      <td>...</td>\n",
       "      <td>...</td>\n",
       "      <td>...</td>\n",
       "      <td>...</td>\n",
       "      <td>...</td>\n",
       "      <td>...</td>\n",
       "      <td>...</td>\n",
       "      <td>...</td>\n",
       "      <td>...</td>\n",
       "      <td>...</td>\n",
       "      <td>...</td>\n",
       "      <td>...</td>\n",
       "      <td>...</td>\n",
       "    </tr>\n",
       "    <tr>\n",
       "      <th>70174</th>\n",
       "      <td>2</td>\n",
       "      <td>0</td>\n",
       "      <td>8</td>\n",
       "      <td>1</td>\n",
       "      <td>3</td>\n",
       "      <td>7</td>\n",
       "      <td>4</td>\n",
       "      <td>44</td>\n",
       "      <td>0</td>\n",
       "      <td>17</td>\n",
       "      <td>0</td>\n",
       "      <td>0</td>\n",
       "      <td>2</td>\n",
       "      <td>9</td>\n",
       "      <td>1</td>\n",
       "      <td>0</td>\n",
       "    </tr>\n",
       "    <tr>\n",
       "      <th>70175</th>\n",
       "      <td>0</td>\n",
       "      <td>0</td>\n",
       "      <td>8</td>\n",
       "      <td>1</td>\n",
       "      <td>3</td>\n",
       "      <td>7</td>\n",
       "      <td>7</td>\n",
       "      <td>60</td>\n",
       "      <td>0</td>\n",
       "      <td>17</td>\n",
       "      <td>0</td>\n",
       "      <td>1</td>\n",
       "      <td>1</td>\n",
       "      <td>9</td>\n",
       "      <td>1</td>\n",
       "      <td>0</td>\n",
       "    </tr>\n",
       "    <tr>\n",
       "      <th>70176</th>\n",
       "      <td>0</td>\n",
       "      <td>0</td>\n",
       "      <td>7</td>\n",
       "      <td>1</td>\n",
       "      <td>1</td>\n",
       "      <td>7</td>\n",
       "      <td>3</td>\n",
       "      <td>57</td>\n",
       "      <td>4</td>\n",
       "      <td>11</td>\n",
       "      <td>0</td>\n",
       "      <td>0</td>\n",
       "      <td>1</td>\n",
       "      <td>9</td>\n",
       "      <td>1</td>\n",
       "      <td>0</td>\n",
       "    </tr>\n",
       "    <tr>\n",
       "      <th>70177</th>\n",
       "      <td>0</td>\n",
       "      <td>1</td>\n",
       "      <td>9</td>\n",
       "      <td>1</td>\n",
       "      <td>3</td>\n",
       "      <td>7</td>\n",
       "      <td>4</td>\n",
       "      <td>21</td>\n",
       "      <td>1</td>\n",
       "      <td>8</td>\n",
       "      <td>0</td>\n",
       "      <td>0</td>\n",
       "      <td>1</td>\n",
       "      <td>9</td>\n",
       "      <td>1</td>\n",
       "      <td>0</td>\n",
       "    </tr>\n",
       "    <tr>\n",
       "      <th>70179</th>\n",
       "      <td>2</td>\n",
       "      <td>1</td>\n",
       "      <td>7</td>\n",
       "      <td>1</td>\n",
       "      <td>1</td>\n",
       "      <td>7</td>\n",
       "      <td>6</td>\n",
       "      <td>13</td>\n",
       "      <td>3</td>\n",
       "      <td>3</td>\n",
       "      <td>0</td>\n",
       "      <td>0</td>\n",
       "      <td>0</td>\n",
       "      <td>9</td>\n",
       "      <td>1</td>\n",
       "      <td>0</td>\n",
       "    </tr>\n",
       "  </tbody>\n",
       "</table>\n",
       "<p>68697 rows × 16 columns</p>\n",
       "</div>"
      ],
      "text/plain": [
       "       race  gender  age  admission_type_id  discharge_disposition_id  \\\n",
       "0         2       0    0                  6                        25   \n",
       "1         2       0    1                  1                         1   \n",
       "2         0       0    2                  1                         1   \n",
       "3         2       1    3                  1                         1   \n",
       "4         2       1    4                  1                         1   \n",
       "...     ...     ...  ...                ...                       ...   \n",
       "70174     2       0    8                  1                         3   \n",
       "70175     0       0    8                  1                         3   \n",
       "70176     0       0    7                  1                         1   \n",
       "70177     0       1    9                  1                         3   \n",
       "70179     2       1    7                  1                         1   \n",
       "\n",
       "       admission_source_id  time_in_hospital  num_lab_procedures  \\\n",
       "0                        1                 1                  41   \n",
       "1                        7                 3                  59   \n",
       "2                        7                 2                  11   \n",
       "3                        7                 2                  44   \n",
       "4                        7                 1                  51   \n",
       "...                    ...               ...                 ...   \n",
       "70174                    7                 4                  44   \n",
       "70175                    7                 7                  60   \n",
       "70176                    7                 3                  57   \n",
       "70177                    7                 4                  21   \n",
       "70179                    7                 6                  13   \n",
       "\n",
       "       num_procedures  num_medications  number_outpatient  number_emergency  \\\n",
       "0                   0                1                  0                 0   \n",
       "1                   0               18                  0                 0   \n",
       "2                   5               13                  2                 0   \n",
       "3                   1               16                  0                 0   \n",
       "4                   0                8                  0                 0   \n",
       "...               ...              ...                ...               ...   \n",
       "70174               0               17                  0                 0   \n",
       "70175               0               17                  0                 1   \n",
       "70176               4               11                  0                 0   \n",
       "70177               1                8                  0                 0   \n",
       "70179               3                3                  0                 0   \n",
       "\n",
       "       number_inpatient  number_diagnoses  change  diabatic  \n",
       "0                     0                 1       1         0  \n",
       "1                     0                 9       0         1  \n",
       "2                     1                 6       1         1  \n",
       "3                     0                 7       0         1  \n",
       "4                     0                 5       0         1  \n",
       "...                 ...               ...     ...       ...  \n",
       "70174                 2                 9       1         0  \n",
       "70175                 1                 9       1         0  \n",
       "70176                 1                 9       1         0  \n",
       "70177                 1                 9       1         0  \n",
       "70179                 0                 9       1         0  \n",
       "\n",
       "[68697 rows x 16 columns]"
      ]
     },
     "execution_count": 17,
     "metadata": {},
     "output_type": "execute_result"
    }
   ],
   "source": [
    "from sklearn.preprocessing import LabelEncoder\n",
    "lb = LabelEncoder()\n",
    "for i in df_cat.columns:\n",
    "    df[i] = lb.fit_transform(df[i])\n",
    "df"
   ]
  },
  {
   "cell_type": "markdown",
   "id": "6e04cdc0",
   "metadata": {},
   "source": [
    "# Splitting of dataset"
   ]
  },
  {
   "cell_type": "markdown",
   "id": "7468e171",
   "metadata": {
    "ExecuteTime": {
     "end_time": "2022-07-21T18:07:00.916108Z",
     "start_time": "2022-07-21T18:07:00.900334Z"
    }
   },
   "source": [
    "## Separating target and other features"
   ]
  },
  {
   "cell_type": "code",
   "execution_count": 18,
   "id": "f4f9f0d1",
   "metadata": {
    "ExecuteTime": {
     "end_time": "2022-07-22T02:13:02.541527Z",
     "start_time": "2022-07-22T02:13:02.513950Z"
    }
   },
   "outputs": [],
   "source": [
    "x = df.iloc[:,:-1]\n",
    "y = df.iloc[:,15:]"
   ]
  },
  {
   "cell_type": "markdown",
   "id": "f76d4016",
   "metadata": {
    "ExecuteTime": {
     "end_time": "2022-07-21T17:19:46.514848Z",
     "start_time": "2022-07-21T17:19:46.508221Z"
    }
   },
   "source": [
    "## Testing - Training Data Split"
   ]
  },
  {
   "cell_type": "code",
   "execution_count": 19,
   "id": "3be022f6",
   "metadata": {
    "ExecuteTime": {
     "end_time": "2022-07-22T02:13:02.583472Z",
     "start_time": "2022-07-22T02:13:02.543676Z"
    }
   },
   "outputs": [],
   "source": [
    "x_train, x_test, y_train, y_test=train_test_split(x,y,test_size=0.2,random_state=42)"
   ]
  },
  {
   "cell_type": "markdown",
   "id": "58738736",
   "metadata": {},
   "source": [
    "# Applying DecisionTreeClassifier"
   ]
  },
  {
   "cell_type": "markdown",
   "id": "ee5b2303",
   "metadata": {},
   "source": [
    "## Using Gini Index"
   ]
  },
  {
   "cell_type": "code",
   "execution_count": 20,
   "id": "20554b1b",
   "metadata": {
    "ExecuteTime": {
     "end_time": "2022-07-22T02:13:02.904514Z",
     "start_time": "2022-07-22T02:13:02.583472Z"
    }
   },
   "outputs": [
    {
     "name": "stdout",
     "output_type": "stream",
     "text": [
      "[[3824  804]\n",
      " [2871 6241]] \n",
      " 73.2532751091703 \n",
      "               precision    recall  f1-score   support\n",
      "\n",
      "           0       0.57      0.83      0.68      4628\n",
      "           1       0.89      0.68      0.77      9112\n",
      "\n",
      "    accuracy                           0.73     13740\n",
      "   macro avg       0.73      0.76      0.72     13740\n",
      "weighted avg       0.78      0.73      0.74     13740\n",
      "\n"
     ]
    }
   ],
   "source": [
    "ginindex = DecisionTreeClassifier(criterion='gini',max_depth=5,min_samples_leaf=3,random_state=100)\n",
    "ginindex.fit(x_train,y_train)\n",
    "y_pred = ginindex.predict(x_test)\n",
    "accuracy = accuracy_score(y_test,y_pred)*100\n",
    "cm = confusion_matrix(y_test,y_pred,labels=ginindex.classes_)\n",
    "print(cm,'\\n',accuracy,'\\n',classification_report(y_test,y_pred))"
   ]
  },
  {
   "cell_type": "code",
   "execution_count": 21,
   "id": "65b788ce",
   "metadata": {
    "ExecuteTime": {
     "end_time": "2022-07-22T02:13:05.878117Z",
     "start_time": "2022-07-22T02:13:02.907232Z"
    }
   },
   "outputs": [
    {
     "data": {
      "text/plain": [
       "[Text(0.46875, 0.9166666666666666, 'X[14] <= 0.5\\ngini = 0.445\\nsamples = 54957\\nvalue = [18363, 36594]'),\n",
       " Text(0.4375, 0.75, 'gini = 0.0\\nsamples = 20580\\nvalue = [0, 20580]'),\n",
       " Text(0.5, 0.75, 'X[9] <= 7.5\\ngini = 0.498\\nsamples = 34377\\nvalue = [18363, 16014]'),\n",
       " Text(0.25, 0.5833333333333334, 'X[13] <= 5.5\\ngini = 0.462\\nsamples = 5890\\nvalue = [3760, 2130]'),\n",
       " Text(0.125, 0.4166666666666667, 'X[2] <= 2.5\\ngini = 0.497\\nsamples = 2499\\nvalue = [1347, 1152]'),\n",
       " Text(0.0625, 0.25, 'X[8] <= 0.5\\ngini = 0.419\\nsamples = 351\\nvalue = [105, 246]'),\n",
       " Text(0.03125, 0.08333333333333333, 'gini = 0.374\\nsamples = 305\\nvalue = [76, 229]'),\n",
       " Text(0.09375, 0.08333333333333333, 'gini = 0.466\\nsamples = 46\\nvalue = [29, 17]'),\n",
       " Text(0.1875, 0.25, 'X[9] <= 3.5\\ngini = 0.488\\nsamples = 2148\\nvalue = [1242, 906]'),\n",
       " Text(0.15625, 0.08333333333333333, 'gini = 0.416\\nsamples = 437\\nvalue = [308, 129]'),\n",
       " Text(0.21875, 0.08333333333333333, 'gini = 0.496\\nsamples = 1711\\nvalue = [934, 777]'),\n",
       " Text(0.375, 0.4166666666666667, 'X[9] <= 3.5\\ngini = 0.41\\nsamples = 3391\\nvalue = [2413, 978]'),\n",
       " Text(0.3125, 0.25, 'X[9] <= 1.5\\ngini = 0.276\\nsamples = 495\\nvalue = [413, 82]'),\n",
       " Text(0.28125, 0.08333333333333333, 'gini = 0.175\\nsamples = 93\\nvalue = [84, 9]'),\n",
       " Text(0.34375, 0.08333333333333333, 'gini = 0.297\\nsamples = 402\\nvalue = [329, 73]'),\n",
       " Text(0.4375, 0.25, 'X[13] <= 7.5\\ngini = 0.427\\nsamples = 2896\\nvalue = [2000, 896]'),\n",
       " Text(0.40625, 0.08333333333333333, 'gini = 0.458\\nsamples = 1216\\nvalue = [784, 432]'),\n",
       " Text(0.46875, 0.08333333333333333, 'gini = 0.4\\nsamples = 1680\\nvalue = [1216, 464]'),\n",
       " Text(0.75, 0.5833333333333334, 'X[13] <= 8.5\\ngini = 0.5\\nsamples = 28487\\nvalue = [14603, 13884]'),\n",
       " Text(0.625, 0.4166666666666667, 'X[13] <= 5.5\\ngini = 0.498\\nsamples = 15275\\nvalue = [7110, 8165]'),\n",
       " Text(0.5625, 0.25, 'X[3] <= 2.5\\ngini = 0.486\\nsamples = 5919\\nvalue = [2470, 3449]'),\n",
       " Text(0.53125, 0.08333333333333333, 'gini = 0.462\\nsamples = 3697\\nvalue = [1338, 2359]'),\n",
       " Text(0.59375, 0.08333333333333333, 'gini = 0.5\\nsamples = 2222\\nvalue = [1132, 1090]'),\n",
       " Text(0.6875, 0.25, 'X[5] <= 7.5\\ngini = 0.5\\nsamples = 9356\\nvalue = [4640, 4716]'),\n",
       " Text(0.65625, 0.08333333333333333, 'gini = 0.5\\nsamples = 8262\\nvalue = [4192, 4070]'),\n",
       " Text(0.71875, 0.08333333333333333, 'gini = 0.484\\nsamples = 1094\\nvalue = [448, 646]'),\n",
       " Text(0.875, 0.4166666666666667, 'X[3] <= 1.5\\ngini = 0.491\\nsamples = 13212\\nvalue = [7493, 5719]'),\n",
       " Text(0.8125, 0.25, 'X[10] <= 1.5\\ngini = 0.483\\nsamples = 7896\\nvalue = [4685, 3211]'),\n",
       " Text(0.78125, 0.08333333333333333, 'gini = 0.487\\nsamples = 7173\\nvalue = [4162, 3011]'),\n",
       " Text(0.84375, 0.08333333333333333, 'gini = 0.4\\nsamples = 723\\nvalue = [523, 200]'),\n",
       " Text(0.9375, 0.25, 'X[5] <= 1.5\\ngini = 0.498\\nsamples = 5316\\nvalue = [2808, 2508]'),\n",
       " Text(0.90625, 0.08333333333333333, 'gini = 0.493\\nsamples = 3045\\nvalue = [1700, 1345]'),\n",
       " Text(0.96875, 0.08333333333333333, 'gini = 0.5\\nsamples = 2271\\nvalue = [1108, 1163]')]"
      ]
     },
     "execution_count": 21,
     "metadata": {},
     "output_type": "execute_result"
    },
    {
     "data": {
      "image/png": "[encoded data removed]",
      "text/plain": [
       "<Figure size 432x288 with 1 Axes>"
      ]
     },
     "metadata": {
      "needs_background": "light"
     },
     "output_type": "display_data"
    }
   ],
   "source": [
    "tree.plot_tree(ginindex)"
   ]
  },
  {
   "cell_type": "markdown",
   "id": "02c7d4ec",
   "metadata": {},
   "source": [
    "## Using Entropy"
   ]
  },
  {
   "cell_type": "code",
   "execution_count": 22,
   "id": "a4fc0070",
   "metadata": {
    "ExecuteTime": {
     "end_time": "2022-07-22T02:13:06.174182Z",
     "start_time": "2022-07-22T02:13:05.880631Z"
    }
   },
   "outputs": [
    {
     "name": "stdout",
     "output_type": "stream",
     "text": [
      "[[3824  804]\n",
      " [2871 6241]] \n",
      " 73.2532751091703\n",
      "              precision    recall  f1-score   support\n",
      "\n",
      "           0       0.57      0.83      0.68      4628\n",
      "           1       0.89      0.68      0.77      9112\n",
      "\n",
      "    accuracy                           0.73     13740\n",
      "   macro avg       0.73      0.76      0.72     13740\n",
      "weighted avg       0.78      0.73      0.74     13740\n",
      "\n"
     ]
    }
   ],
   "source": [
    "entropy = DecisionTreeClassifier(criterion='entropy',max_depth=5,min_samples_leaf=3,random_state=100)\n",
    "entropy.fit(x_train,y_train)\n",
    "y_pred_entropy = entropy.predict(x_test)\n",
    "cm = confusion_matrix(y_test,y_pred_entropy,labels=entropy.classes_)\n",
    "accuracy = accuracy_score(y_test,y_pred)*100\n",
    "print(cm,'\\n',accuracy)\n",
    "print(classification_report(y_test,y_pred))"
   ]
  },
  {
   "cell_type": "code",
   "execution_count": 23,
   "id": "b0e59d7b",
   "metadata": {
    "ExecuteTime": {
     "end_time": "2022-07-22T02:13:09.740018Z",
     "start_time": "2022-07-22T02:13:06.178663Z"
    }
   },
   "outputs": [
    {
     "data": {
      "text/plain": [
       "[Text(0.46875, 0.9166666666666666, 'X[14] <= 0.5\\nentropy = 0.919\\nsamples = 54957\\nvalue = [18363, 36594]'),\n",
       " Text(0.4375, 0.75, 'entropy = 0.0\\nsamples = 20580\\nvalue = [0, 20580]'),\n",
       " Text(0.5, 0.75, 'X[9] <= 7.5\\nentropy = 0.997\\nsamples = 34377\\nvalue = [18363, 16014]'),\n",
       " Text(0.25, 0.5833333333333334, 'X[13] <= 5.5\\nentropy = 0.944\\nsamples = 5890\\nvalue = [3760, 2130]'),\n",
       " Text(0.125, 0.4166666666666667, 'X[2] <= 2.5\\nentropy = 0.996\\nsamples = 2499\\nvalue = [1347, 1152]'),\n",
       " Text(0.0625, 0.25, 'X[8] <= 0.5\\nentropy = 0.88\\nsamples = 351\\nvalue = [105, 246]'),\n",
       " Text(0.03125, 0.08333333333333333, 'entropy = 0.81\\nsamples = 305\\nvalue = [76, 229]'),\n",
       " Text(0.09375, 0.08333333333333333, 'entropy = 0.95\\nsamples = 46\\nvalue = [29, 17]'),\n",
       " Text(0.1875, 0.25, 'X[9] <= 3.5\\nentropy = 0.982\\nsamples = 2148\\nvalue = [1242, 906]'),\n",
       " Text(0.15625, 0.08333333333333333, 'entropy = 0.875\\nsamples = 437\\nvalue = [308, 129]'),\n",
       " Text(0.21875, 0.08333333333333333, 'entropy = 0.994\\nsamples = 1711\\nvalue = [934, 777]'),\n",
       " Text(0.375, 0.4166666666666667, 'X[9] <= 3.5\\nentropy = 0.867\\nsamples = 3391\\nvalue = [2413, 978]'),\n",
       " Text(0.3125, 0.25, 'X[9] <= 1.5\\nentropy = 0.648\\nsamples = 495\\nvalue = [413, 82]'),\n",
       " Text(0.28125, 0.08333333333333333, 'entropy = 0.459\\nsamples = 93\\nvalue = [84, 9]'),\n",
       " Text(0.34375, 0.08333333333333333, 'entropy = 0.684\\nsamples = 402\\nvalue = [329, 73]'),\n",
       " Text(0.4375, 0.25, 'X[13] <= 7.5\\nentropy = 0.892\\nsamples = 2896\\nvalue = [2000, 896]'),\n",
       " Text(0.40625, 0.08333333333333333, 'entropy = 0.939\\nsamples = 1216\\nvalue = [784, 432]'),\n",
       " Text(0.46875, 0.08333333333333333, 'entropy = 0.85\\nsamples = 1680\\nvalue = [1216, 464]'),\n",
       " Text(0.75, 0.5833333333333334, 'X[13] <= 8.5\\nentropy = 1.0\\nsamples = 28487\\nvalue = [14603, 13884]'),\n",
       " Text(0.625, 0.4166666666666667, 'X[13] <= 5.5\\nentropy = 0.997\\nsamples = 15275\\nvalue = [7110, 8165]'),\n",
       " Text(0.5625, 0.25, 'X[3] <= 2.5\\nentropy = 0.98\\nsamples = 5919\\nvalue = [2470, 3449]'),\n",
       " Text(0.53125, 0.08333333333333333, 'entropy = 0.944\\nsamples = 3697\\nvalue = [1338, 2359]'),\n",
       " Text(0.59375, 0.08333333333333333, 'entropy = 1.0\\nsamples = 2222\\nvalue = [1132, 1090]'),\n",
       " Text(0.6875, 0.25, 'X[5] <= 7.5\\nentropy = 1.0\\nsamples = 9356\\nvalue = [4640, 4716]'),\n",
       " Text(0.65625, 0.08333333333333333, 'entropy = 1.0\\nsamples = 8262\\nvalue = [4192, 4070]'),\n",
       " Text(0.71875, 0.08333333333333333, 'entropy = 0.976\\nsamples = 1094\\nvalue = [448, 646]'),\n",
       " Text(0.875, 0.4166666666666667, 'X[3] <= 1.5\\nentropy = 0.987\\nsamples = 13212\\nvalue = [7493, 5719]'),\n",
       " Text(0.8125, 0.25, 'X[10] <= 1.5\\nentropy = 0.975\\nsamples = 7896\\nvalue = [4685, 3211]'),\n",
       " Text(0.78125, 0.08333333333333333, 'entropy = 0.981\\nsamples = 7173\\nvalue = [4162, 3011]'),\n",
       " Text(0.84375, 0.08333333333333333, 'entropy = 0.851\\nsamples = 723\\nvalue = [523, 200]'),\n",
       " Text(0.9375, 0.25, 'X[5] <= 1.5\\nentropy = 0.998\\nsamples = 5316\\nvalue = [2808, 2508]'),\n",
       " Text(0.90625, 0.08333333333333333, 'entropy = 0.99\\nsamples = 3045\\nvalue = [1700, 1345]'),\n",
       " Text(0.96875, 0.08333333333333333, 'entropy = 1.0\\nsamples = 2271\\nvalue = [1108, 1163]')]"
      ]
     },
     "execution_count": 23,
     "metadata": {},
     "output_type": "execute_result"
    },
    {
     "data": {
      "image/png": "[encoded data removed]",
      "text/plain": [
       "<Figure size 432x288 with 1 Axes>"
      ]
     },
     "metadata": {
      "needs_background": "light"
     },
     "output_type": "display_data"
    }
   ],
   "source": [
    "tree.plot_tree(entropy)"
   ]
  },
  {
   "cell_type": "markdown",
   "id": "9d430797",
   "metadata": {},
   "source": [
    "## Using GridSearchCV"
   ]
  },
  {
   "cell_type": "code",
   "execution_count": 24,
   "id": "1a1e127b",
   "metadata": {
    "ExecuteTime": {
     "end_time": "2022-07-22T02:13:37.930457Z",
     "start_time": "2022-07-22T02:13:09.742971Z"
    }
   },
   "outputs": [
    {
     "data": {
      "text/plain": [
       "GridSearchCV(cv=5, estimator=DecisionTreeClassifier(),\n",
       "             param_grid={'criterion': ['gini', 'entropy'],\n",
       "                         'max_depth': array([ 3,  4,  5,  6,  7,  8,  9, 10, 11, 12, 13, 14])})"
      ]
     },
     "execution_count": 24,
     "metadata": {},
     "output_type": "execute_result"
    }
   ],
   "source": [
    "tree_para = {'criterion':['gini','entropy'],'max_depth':np.arange(3, 15)}\n",
    "clf = GridSearchCV(DecisionTreeClassifier(), tree_para, cv=5)\n",
    "clf.fit(x_train, y_train)"
   ]
  },
  {
   "cell_type": "code",
   "execution_count": 25,
   "id": "861b5e95",
   "metadata": {
    "ExecuteTime": {
     "end_time": "2022-07-22T02:13:37.956589Z",
     "start_time": "2022-07-22T02:13:37.933450Z"
    }
   },
   "outputs": [
    {
     "name": "stdout",
     "output_type": "stream",
     "text": [
      "{'criterion': 'entropy', 'max_depth': 9}\n",
      "73.90829694323145\n"
     ]
    }
   ],
   "source": [
    "print(clf.best_params_)\n",
    "print(clf.score(x_test,y_test)*100)"
   ]
  },
  {
   "cell_type": "markdown",
   "id": "9b073d34",
   "metadata": {},
   "source": [
    "## AUC-ROC Curve"
   ]
  },
  {
   "cell_type": "code",
   "execution_count": 26,
   "id": "1024beb8",
   "metadata": {
    "ExecuteTime": {
     "end_time": "2022-07-22T02:13:37.990051Z",
     "start_time": "2022-07-22T02:13:37.959076Z"
    }
   },
   "outputs": [
    {
     "data": {
      "text/plain": [
       "array([1.        , 0.40688576, 0.26310484, ..., 0.43067547, 0.45945946,\n",
       "       1.        ])"
      ]
     },
     "execution_count": 26,
     "metadata": {},
     "output_type": "execute_result"
    }
   ],
   "source": [
    "y_score = clf.predict_proba(x_test)[:,1]\n",
    "y_score"
   ]
  },
  {
   "cell_type": "code",
   "execution_count": 27,
   "id": "8d0a940f",
   "metadata": {
    "ExecuteTime": {
     "end_time": "2022-07-22T02:13:38.014627Z",
     "start_time": "2022-07-22T02:13:37.994977Z"
    }
   },
   "outputs": [
    {
     "name": "stdout",
     "output_type": "stream",
     "text": [
      "roc_auc_score:  83.37398236523418\n"
     ]
    }
   ],
   "source": [
    "false_positive_rate, true_positive_rate, threshold = roc_curve(y_test, y_score)\n",
    "print('roc_auc_score: ', roc_auc_score(y_test, y_score)*100)"
   ]
  },
  {
   "cell_type": "code",
   "execution_count": 28,
   "id": "e583e815",
   "metadata": {
    "ExecuteTime": {
     "end_time": "2022-07-22T02:13:38.439802Z",
     "start_time": "2022-07-22T02:13:38.022369Z"
    }
   },
   "outputs": [
    {
     "data": {
      "image/png": "[encoded data removed]",
      "text/plain": [
       "<Figure size 720x720 with 1 Axes>"
      ]
     },
     "metadata": {
      "needs_background": "light"
     },
     "output_type": "display_data"
    }
   ],
   "source": [
    "plt.subplots(1, figsize=(10,10))\n",
    "plt.title('Receiver Operating Characteristic - DecisionTree')\n",
    "plt.plot(false_positive_rate, true_positive_rate)\n",
    "plt.ylabel('True Positive Rate')\n",
    "plt.xlabel('False Positive Rate')\n",
    "plt.show()"
   ]
  },
  {
   "cell_type": "markdown",
   "id": "2996810c",
   "metadata": {},
   "source": [
    "## Applying RandomForest"
   ]
  },
  {
   "cell_type": "code",
   "execution_count": 29,
   "id": "b0a58577",
   "metadata": {
    "ExecuteTime": {
     "end_time": "2022-07-22T02:13:52.540546Z",
     "start_time": "2022-07-22T02:13:38.442033Z"
    }
   },
   "outputs": [
    {
     "name": "stderr",
     "output_type": "stream",
     "text": [
      "C:\\Users\\Dell\\AppData\\Local\\Temp/ipykernel_1416/1134369792.py:2: DataConversionWarning: A column-vector y was passed when a 1d array was expected. Please change the shape of y to (n_samples,), for example using ravel().\n",
      "  rf.fit(x_train,y_train)\n"
     ]
    },
    {
     "name": "stdout",
     "output_type": "stream",
     "text": [
      "0.74745269286754 \n",
      " [[3100 1528]\n",
      " [1942 7170]]\n",
      "              precision    recall  f1-score   support\n",
      "\n",
      "           0       0.61      0.67      0.64      4628\n",
      "           1       0.82      0.79      0.81      9112\n",
      "\n",
      "    accuracy                           0.75     13740\n",
      "   macro avg       0.72      0.73      0.72     13740\n",
      "weighted avg       0.75      0.75      0.75     13740\n",
      "\n"
     ]
    }
   ],
   "source": [
    "rf = RandomForestClassifier(n_estimators=100,random_state=0)\n",
    "rf.fit(x_train,y_train)\n",
    "y_pred = rf.predict(x_test)\n",
    "cm = confusion_matrix(y_test,y_pred,labels=rf.classes_)\n",
    "print(accuracy_score(y_test,y_pred),\"\\n\",cm)\n",
    "print(classification_report(y_test,y_pred))"
   ]
  },
  {
   "cell_type": "markdown",
   "id": "296630de",
   "metadata": {},
   "source": [
    "# Model Comparison"
   ]
  },
  {
   "cell_type": "code",
   "execution_count": 30,
   "id": "75311acd",
   "metadata": {
    "ExecuteTime": {
     "end_time": "2022-07-22T02:13:52.596039Z",
     "start_time": "2022-07-22T02:13:52.544104Z"
    }
   },
   "outputs": [
    {
     "data": {
      "text/html": [
       "<div>\n",
       "<style scoped>\n",
       "    .dataframe tbody tr th:only-of-type {\n",
       "        vertical-align: middle;\n",
       "    }\n",
       "\n",
       "    .dataframe tbody tr th {\n",
       "        vertical-align: top;\n",
       "    }\n",
       "\n",
       "    .dataframe thead th {\n",
       "        text-align: right;\n",
       "    }\n",
       "</style>\n",
       "<table border=\"1\" class=\"dataframe\">\n",
       "  <thead>\n",
       "    <tr style=\"text-align: right;\">\n",
       "      <th></th>\n",
       "      <th>Accuracy</th>\n",
       "    </tr>\n",
       "  </thead>\n",
       "  <tbody>\n",
       "    <tr>\n",
       "      <th>Gini Index</th>\n",
       "      <td>73.253275</td>\n",
       "    </tr>\n",
       "    <tr>\n",
       "      <th>Using Entropy</th>\n",
       "      <td>73.253275</td>\n",
       "    </tr>\n",
       "    <tr>\n",
       "      <th>GridSearchCV</th>\n",
       "      <td>73.908297</td>\n",
       "    </tr>\n",
       "    <tr>\n",
       "      <th>AUC-ROC Curve</th>\n",
       "      <td>83.373982</td>\n",
       "    </tr>\n",
       "    <tr>\n",
       "      <th>RandomForest</th>\n",
       "      <td>74.745269</td>\n",
       "    </tr>\n",
       "  </tbody>\n",
       "</table>\n",
       "</div>"
      ],
      "text/plain": [
       "                Accuracy\n",
       "Gini Index     73.253275\n",
       "Using Entropy  73.253275\n",
       "GridSearchCV   73.908297\n",
       "AUC-ROC Curve  83.373982\n",
       "RandomForest   74.745269"
      ]
     },
     "execution_count": 30,
     "metadata": {},
     "output_type": "execute_result"
    }
   ],
   "source": [
    "comparison = pd.DataFrame({\n",
    "    \"Gini Index\":{'Accuracy':accuracy},\n",
    "    \"Using Entropy\":{'Accuracy':accuracy},\n",
    "    \"GridSearchCV\":{'Accuracy':(clf.score(x_test,y_test)*100)},\n",
    "    \"AUC-ROC Curve\":{'Accuracy':(roc_auc_score(y_test, y_score)*100)},\n",
    "    \"RandomForest\":{'Accuracy':(accuracy_score(y_test,y_pred)*100)}}).T\n",
    "comparison"
   ]
  },
  {
   "cell_type": "code",
   "execution_count": null,
   "id": "b4abbd82",
   "metadata": {},
   "outputs": [],
   "source": []
  }
 ],
 "metadata": {
  "kernelspec": {
   "display_name": "Python 3 (ipykernel)",
   "language": "python",
   "name": "python3"
  },
  "language_info": {
   "codemirror_mode": {
    "name": "ipython",
    "version": 3
   },
   "file_extension": ".py",
   "mimetype": "text/x-python",
   "name": "python",
   "nbconvert_exporter": "python",
   "pygments_lexer": "ipython3",
   "version": "3.9.7"
  },
  "toc": {
   "base_numbering": 1,
   "nav_menu": {},
   "number_sections": true,
   "sideBar": true,
   "skip_h1_title": false,
   "title_cell": "Table of Contents",
   "title_sidebar": "Contents",
   "toc_cell": false,
   "toc_position": {},
   "toc_section_display": true,
   "toc_window_display": false
  }
 },
 "nbformat": 4,
 "nbformat_minor": 5
}
