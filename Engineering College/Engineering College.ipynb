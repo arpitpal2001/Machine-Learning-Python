{
 "cells": [
  {
   "cell_type": "markdown",
   "id": "1fb004bd",
   "metadata": {},
   "source": [
    "# Exploratory Data Analysis"
   ]
  },
  {
   "cell_type": "markdown",
   "id": "74dfdebb",
   "metadata": {},
   "source": [
    "## Import libraries and load dataset"
   ]
  },
  {
   "cell_type": "code",
   "execution_count": 1,
   "id": "216e7cd8",
   "metadata": {
    "ExecuteTime": {
     "end_time": "2022-07-29T12:08:52.318716Z",
     "start_time": "2022-07-29T12:08:50.949244Z"
    }
   },
   "outputs": [],
   "source": [
    "import numpy as np\n",
    "import pandas as pd\n",
    "import matplotlib.pyplot as plt\n",
    "import seaborn as sns"
   ]
  },
  {
   "cell_type": "code",
   "execution_count": 2,
   "id": "eb6236d0",
   "metadata": {
    "ExecuteTime": {
     "end_time": "2022-07-29T12:08:52.349735Z",
     "start_time": "2022-07-29T12:08:52.321584Z"
    }
   },
   "outputs": [
    {
     "data": {
      "text/html": [
       "<div>\n",
       "<style scoped>\n",
       "    .dataframe tbody tr th:only-of-type {\n",
       "        vertical-align: middle;\n",
       "    }\n",
       "\n",
       "    .dataframe tbody tr th {\n",
       "        vertical-align: top;\n",
       "    }\n",
       "\n",
       "    .dataframe thead th {\n",
       "        text-align: right;\n",
       "    }\n",
       "</style>\n",
       "<table border=\"1\" class=\"dataframe\">\n",
       "  <thead>\n",
       "    <tr style=\"text-align: right;\">\n",
       "      <th></th>\n",
       "      <th>SR_NO</th>\n",
       "      <th>Engg_College</th>\n",
       "      <th>Teaching</th>\n",
       "      <th>Fees</th>\n",
       "      <th>Placements</th>\n",
       "      <th>Internship</th>\n",
       "      <th>Infrastructure</th>\n",
       "    </tr>\n",
       "  </thead>\n",
       "  <tbody>\n",
       "    <tr>\n",
       "      <th>0</th>\n",
       "      <td>1</td>\n",
       "      <td>A</td>\n",
       "      <td>5</td>\n",
       "      <td>2</td>\n",
       "      <td>5</td>\n",
       "      <td>5</td>\n",
       "      <td>3</td>\n",
       "    </tr>\n",
       "    <tr>\n",
       "      <th>1</th>\n",
       "      <td>2</td>\n",
       "      <td>B</td>\n",
       "      <td>4</td>\n",
       "      <td>2</td>\n",
       "      <td>5</td>\n",
       "      <td>5</td>\n",
       "      <td>3</td>\n",
       "    </tr>\n",
       "    <tr>\n",
       "      <th>2</th>\n",
       "      <td>3</td>\n",
       "      <td>C</td>\n",
       "      <td>4</td>\n",
       "      <td>5</td>\n",
       "      <td>5</td>\n",
       "      <td>4</td>\n",
       "      <td>5</td>\n",
       "    </tr>\n",
       "    <tr>\n",
       "      <th>3</th>\n",
       "      <td>4</td>\n",
       "      <td>D</td>\n",
       "      <td>5</td>\n",
       "      <td>4</td>\n",
       "      <td>5</td>\n",
       "      <td>4</td>\n",
       "      <td>4</td>\n",
       "    </tr>\n",
       "    <tr>\n",
       "      <th>4</th>\n",
       "      <td>5</td>\n",
       "      <td>E</td>\n",
       "      <td>2</td>\n",
       "      <td>5</td>\n",
       "      <td>2</td>\n",
       "      <td>2</td>\n",
       "      <td>5</td>\n",
       "    </tr>\n",
       "  </tbody>\n",
       "</table>\n",
       "</div>"
      ],
      "text/plain": [
       "   SR_NO Engg_College  Teaching  Fees  Placements  Internship  Infrastructure\n",
       "0      1            A         5     2           5           5               3\n",
       "1      2            B         4     2           5           5               3\n",
       "2      3            C         4     5           5           4               5\n",
       "3      4            D         5     4           5           4               4\n",
       "4      5            E         2     5           2           2               5"
      ]
     },
     "execution_count": 2,
     "metadata": {},
     "output_type": "execute_result"
    }
   ],
   "source": [
    "df = pd.read_csv(r'C:\\Users\\Dell\\Desktop\\CStudy(python)\\C ML\\Engineering College\\Engg_College_Data - Engg_College_Data.csv')\n",
    "df.head()"
   ]
  },
  {
   "cell_type": "markdown",
   "id": "1f7c501f",
   "metadata": {},
   "source": [
    "### Know the datatypes of attributes:"
   ]
  },
  {
   "cell_type": "code",
   "execution_count": 3,
   "id": "2a303a70",
   "metadata": {
    "ExecuteTime": {
     "end_time": "2022-07-29T12:08:52.365727Z",
     "start_time": "2022-07-29T12:08:52.351504Z"
    }
   },
   "outputs": [
    {
     "data": {
      "text/plain": [
       "SR_NO              int64\n",
       "Engg_College      object\n",
       "Teaching           int64\n",
       "Fees               int64\n",
       "Placements         int64\n",
       "Internship         int64\n",
       "Infrastructure     int64\n",
       "dtype: object"
      ]
     },
     "execution_count": 3,
     "metadata": {},
     "output_type": "execute_result"
    }
   ],
   "source": [
    "df.dtypes"
   ]
  },
  {
   "cell_type": "markdown",
   "id": "67fa6fbf",
   "metadata": {},
   "source": [
    "### Summary of data — basic statistics :"
   ]
  },
  {
   "cell_type": "code",
   "execution_count": 4,
   "id": "1570352b",
   "metadata": {
    "ExecuteTime": {
     "end_time": "2022-07-29T12:08:52.412831Z",
     "start_time": "2022-07-29T12:08:52.369574Z"
    }
   },
   "outputs": [
    {
     "data": {
      "text/html": [
       "<div>\n",
       "<style scoped>\n",
       "    .dataframe tbody tr th:only-of-type {\n",
       "        vertical-align: middle;\n",
       "    }\n",
       "\n",
       "    .dataframe tbody tr th {\n",
       "        vertical-align: top;\n",
       "    }\n",
       "\n",
       "    .dataframe thead th {\n",
       "        text-align: right;\n",
       "    }\n",
       "</style>\n",
       "<table border=\"1\" class=\"dataframe\">\n",
       "  <thead>\n",
       "    <tr style=\"text-align: right;\">\n",
       "      <th></th>\n",
       "      <th>SR_NO</th>\n",
       "      <th>Teaching</th>\n",
       "      <th>Fees</th>\n",
       "      <th>Placements</th>\n",
       "      <th>Internship</th>\n",
       "      <th>Infrastructure</th>\n",
       "    </tr>\n",
       "  </thead>\n",
       "  <tbody>\n",
       "    <tr>\n",
       "      <th>count</th>\n",
       "      <td>26.000000</td>\n",
       "      <td>26.000000</td>\n",
       "      <td>26.000000</td>\n",
       "      <td>26.000000</td>\n",
       "      <td>26.000000</td>\n",
       "      <td>26.000000</td>\n",
       "    </tr>\n",
       "    <tr>\n",
       "      <th>mean</th>\n",
       "      <td>13.500000</td>\n",
       "      <td>2.807692</td>\n",
       "      <td>3.576923</td>\n",
       "      <td>2.884615</td>\n",
       "      <td>2.769231</td>\n",
       "      <td>3.384615</td>\n",
       "    </tr>\n",
       "    <tr>\n",
       "      <th>std</th>\n",
       "      <td>7.648529</td>\n",
       "      <td>1.132051</td>\n",
       "      <td>1.331858</td>\n",
       "      <td>1.531716</td>\n",
       "      <td>1.242826</td>\n",
       "      <td>1.298520</td>\n",
       "    </tr>\n",
       "    <tr>\n",
       "      <th>min</th>\n",
       "      <td>1.000000</td>\n",
       "      <td>1.000000</td>\n",
       "      <td>1.000000</td>\n",
       "      <td>1.000000</td>\n",
       "      <td>1.000000</td>\n",
       "      <td>1.000000</td>\n",
       "    </tr>\n",
       "    <tr>\n",
       "      <th>25%</th>\n",
       "      <td>7.250000</td>\n",
       "      <td>2.000000</td>\n",
       "      <td>2.250000</td>\n",
       "      <td>1.250000</td>\n",
       "      <td>2.000000</td>\n",
       "      <td>3.000000</td>\n",
       "    </tr>\n",
       "    <tr>\n",
       "      <th>50%</th>\n",
       "      <td>13.500000</td>\n",
       "      <td>3.000000</td>\n",
       "      <td>4.000000</td>\n",
       "      <td>3.000000</td>\n",
       "      <td>2.000000</td>\n",
       "      <td>3.000000</td>\n",
       "    </tr>\n",
       "    <tr>\n",
       "      <th>75%</th>\n",
       "      <td>19.750000</td>\n",
       "      <td>3.000000</td>\n",
       "      <td>5.000000</td>\n",
       "      <td>4.000000</td>\n",
       "      <td>4.000000</td>\n",
       "      <td>4.750000</td>\n",
       "    </tr>\n",
       "    <tr>\n",
       "      <th>max</th>\n",
       "      <td>26.000000</td>\n",
       "      <td>5.000000</td>\n",
       "      <td>5.000000</td>\n",
       "      <td>5.000000</td>\n",
       "      <td>5.000000</td>\n",
       "      <td>5.000000</td>\n",
       "    </tr>\n",
       "  </tbody>\n",
       "</table>\n",
       "</div>"
      ],
      "text/plain": [
       "           SR_NO   Teaching       Fees  Placements  Internship  Infrastructure\n",
       "count  26.000000  26.000000  26.000000   26.000000   26.000000       26.000000\n",
       "mean   13.500000   2.807692   3.576923    2.884615    2.769231        3.384615\n",
       "std     7.648529   1.132051   1.331858    1.531716    1.242826        1.298520\n",
       "min     1.000000   1.000000   1.000000    1.000000    1.000000        1.000000\n",
       "25%     7.250000   2.000000   2.250000    1.250000    2.000000        3.000000\n",
       "50%    13.500000   3.000000   4.000000    3.000000    2.000000        3.000000\n",
       "75%    19.750000   3.000000   5.000000    4.000000    4.000000        4.750000\n",
       "max    26.000000   5.000000   5.000000    5.000000    5.000000        5.000000"
      ]
     },
     "execution_count": 4,
     "metadata": {},
     "output_type": "execute_result"
    }
   ],
   "source": [
    "df.describe()"
   ]
  },
  {
   "cell_type": "markdown",
   "id": "7e3ef806",
   "metadata": {},
   "source": [
    "### Check whether there are NULL or missing values in dataset:"
   ]
  },
  {
   "cell_type": "code",
   "execution_count": 5,
   "id": "f69be628",
   "metadata": {
    "ExecuteTime": {
     "end_time": "2022-07-29T12:08:52.428506Z",
     "start_time": "2022-07-29T12:08:52.414456Z"
    }
   },
   "outputs": [
    {
     "data": {
      "text/plain": [
       "SR_NO             0\n",
       "Engg_College      0\n",
       "Teaching          0\n",
       "Fees              0\n",
       "Placements        0\n",
       "Internship        0\n",
       "Infrastructure    0\n",
       "dtype: int64"
      ]
     },
     "execution_count": 5,
     "metadata": {},
     "output_type": "execute_result"
    }
   ],
   "source": [
    "df.isnull().sum()"
   ]
  },
  {
   "cell_type": "code",
   "execution_count": 6,
   "id": "66190505",
   "metadata": {
    "ExecuteTime": {
     "end_time": "2022-07-29T12:08:52.444373Z",
     "start_time": "2022-07-29T12:08:52.429683Z"
    }
   },
   "outputs": [
    {
     "data": {
      "text/plain": [
       "(26, 7)"
      ]
     },
     "execution_count": 6,
     "metadata": {},
     "output_type": "execute_result"
    }
   ],
   "source": [
    "df.shape"
   ]
  },
  {
   "cell_type": "code",
   "execution_count": 7,
   "id": "4a0ee5c7",
   "metadata": {
    "ExecuteTime": {
     "end_time": "2022-07-29T12:08:52.459484Z",
     "start_time": "2022-07-29T12:08:52.446395Z"
    }
   },
   "outputs": [
    {
     "data": {
      "text/plain": [
       "Index(['SR_NO', 'Engg_College', 'Teaching', 'Fees', 'Placements', 'Internship',\n",
       "       'Infrastructure'],\n",
       "      dtype='object')"
      ]
     },
     "execution_count": 7,
     "metadata": {},
     "output_type": "execute_result"
    }
   ],
   "source": [
    "df.columns"
   ]
  },
  {
   "cell_type": "code",
   "execution_count": 8,
   "id": "1c6bf99b",
   "metadata": {
    "ExecuteTime": {
     "end_time": "2022-07-29T12:08:52.663967Z",
     "start_time": "2022-07-29T12:08:52.461374Z"
    }
   },
   "outputs": [
    {
     "data": {
      "text/plain": [
       "<AxesSubplot:>"
      ]
     },
     "execution_count": 8,
     "metadata": {},
     "output_type": "execute_result"
    },
    {
     "data": {
      "image/png": "[encoded data removed]",
      "text/plain": [
       "<Figure size 432x288 with 1 Axes>"
      ]
     },
     "metadata": {
      "needs_background": "light"
     },
     "output_type": "display_data"
    }
   ],
   "source": [
    "df['Placements'].hist()"
   ]
  },
  {
   "cell_type": "code",
   "execution_count": 9,
   "id": "b27ca105",
   "metadata": {
    "ExecuteTime": {
     "end_time": "2022-07-29T12:08:52.887526Z",
     "start_time": "2022-07-29T12:08:52.665855Z"
    }
   },
   "outputs": [
    {
     "data": {
      "text/plain": [
       "<AxesSubplot:>"
      ]
     },
     "execution_count": 9,
     "metadata": {},
     "output_type": "execute_result"
    },
    {
     "data": {
      "image/png": "[encoded data removed]",
      "text/plain": [
       "<Figure size 432x288 with 1 Axes>"
      ]
     },
     "metadata": {
      "needs_background": "light"
     },
     "output_type": "display_data"
    }
   ],
   "source": [
    "df['Infrastructure'].hist()"
   ]
  },
  {
   "cell_type": "code",
   "execution_count": 10,
   "id": "23f70cac",
   "metadata": {
    "ExecuteTime": {
     "end_time": "2022-07-29T12:08:53.304462Z",
     "start_time": "2022-07-29T12:08:52.896948Z"
    }
   },
   "outputs": [
    {
     "data": {
      "text/plain": [
       "<AxesSubplot:>"
      ]
     },
     "execution_count": 10,
     "metadata": {},
     "output_type": "execute_result"
    },
    {
     "data": {
      "image/png": "[encoded data removed]",
      "text/plain": [
       "<Figure size 432x288 with 1 Axes>"
      ]
     },
     "metadata": {
      "needs_background": "light"
     },
     "output_type": "display_data"
    }
   ],
   "source": [
    "df['Fees'].hist()"
   ]
  },
  {
   "cell_type": "code",
   "execution_count": 11,
   "id": "0696e7dd",
   "metadata": {
    "ExecuteTime": {
     "end_time": "2022-07-29T12:08:53.367400Z",
     "start_time": "2022-07-29T12:08:53.307453Z"
    }
   },
   "outputs": [
    {
     "data": {
      "text/html": [
       "<div>\n",
       "<style scoped>\n",
       "    .dataframe tbody tr th:only-of-type {\n",
       "        vertical-align: middle;\n",
       "    }\n",
       "\n",
       "    .dataframe tbody tr th {\n",
       "        vertical-align: top;\n",
       "    }\n",
       "\n",
       "    .dataframe thead th {\n",
       "        text-align: right;\n",
       "    }\n",
       "</style>\n",
       "<table border=\"1\" class=\"dataframe\">\n",
       "  <thead>\n",
       "    <tr style=\"text-align: right;\">\n",
       "      <th></th>\n",
       "      <th>count</th>\n",
       "      <th>mean</th>\n",
       "      <th>std</th>\n",
       "      <th>min</th>\n",
       "      <th>25%</th>\n",
       "      <th>50%</th>\n",
       "      <th>75%</th>\n",
       "      <th>max</th>\n",
       "    </tr>\n",
       "  </thead>\n",
       "  <tbody>\n",
       "    <tr>\n",
       "      <th>SR_NO</th>\n",
       "      <td>26.0</td>\n",
       "      <td>13.500000</td>\n",
       "      <td>7.648529</td>\n",
       "      <td>1.0</td>\n",
       "      <td>7.25</td>\n",
       "      <td>13.5</td>\n",
       "      <td>19.75</td>\n",
       "      <td>26.0</td>\n",
       "    </tr>\n",
       "    <tr>\n",
       "      <th>Teaching</th>\n",
       "      <td>26.0</td>\n",
       "      <td>2.807692</td>\n",
       "      <td>1.132051</td>\n",
       "      <td>1.0</td>\n",
       "      <td>2.00</td>\n",
       "      <td>3.0</td>\n",
       "      <td>3.00</td>\n",
       "      <td>5.0</td>\n",
       "    </tr>\n",
       "    <tr>\n",
       "      <th>Fees</th>\n",
       "      <td>26.0</td>\n",
       "      <td>3.576923</td>\n",
       "      <td>1.331858</td>\n",
       "      <td>1.0</td>\n",
       "      <td>2.25</td>\n",
       "      <td>4.0</td>\n",
       "      <td>5.00</td>\n",
       "      <td>5.0</td>\n",
       "    </tr>\n",
       "    <tr>\n",
       "      <th>Placements</th>\n",
       "      <td>26.0</td>\n",
       "      <td>2.884615</td>\n",
       "      <td>1.531716</td>\n",
       "      <td>1.0</td>\n",
       "      <td>1.25</td>\n",
       "      <td>3.0</td>\n",
       "      <td>4.00</td>\n",
       "      <td>5.0</td>\n",
       "    </tr>\n",
       "    <tr>\n",
       "      <th>Internship</th>\n",
       "      <td>26.0</td>\n",
       "      <td>2.769231</td>\n",
       "      <td>1.242826</td>\n",
       "      <td>1.0</td>\n",
       "      <td>2.00</td>\n",
       "      <td>2.0</td>\n",
       "      <td>4.00</td>\n",
       "      <td>5.0</td>\n",
       "    </tr>\n",
       "    <tr>\n",
       "      <th>Infrastructure</th>\n",
       "      <td>26.0</td>\n",
       "      <td>3.384615</td>\n",
       "      <td>1.298520</td>\n",
       "      <td>1.0</td>\n",
       "      <td>3.00</td>\n",
       "      <td>3.0</td>\n",
       "      <td>4.75</td>\n",
       "      <td>5.0</td>\n",
       "    </tr>\n",
       "  </tbody>\n",
       "</table>\n",
       "</div>"
      ],
      "text/plain": [
       "                count       mean       std  min   25%   50%    75%   max\n",
       "SR_NO            26.0  13.500000  7.648529  1.0  7.25  13.5  19.75  26.0\n",
       "Teaching         26.0   2.807692  1.132051  1.0  2.00   3.0   3.00   5.0\n",
       "Fees             26.0   3.576923  1.331858  1.0  2.25   4.0   5.00   5.0\n",
       "Placements       26.0   2.884615  1.531716  1.0  1.25   3.0   4.00   5.0\n",
       "Internship       26.0   2.769231  1.242826  1.0  2.00   2.0   4.00   5.0\n",
       "Infrastructure   26.0   3.384615  1.298520  1.0  3.00   3.0   4.75   5.0"
      ]
     },
     "execution_count": 11,
     "metadata": {},
     "output_type": "execute_result"
    }
   ],
   "source": [
    "df.describe().transpose()"
   ]
  },
  {
   "cell_type": "code",
   "execution_count": 12,
   "id": "f2a7ecd4",
   "metadata": {
    "ExecuteTime": {
     "end_time": "2022-07-29T12:08:53.636166Z",
     "start_time": "2022-07-29T12:08:53.370312Z"
    }
   },
   "outputs": [
    {
     "data": {
      "text/plain": [
       "<AxesSubplot:>"
      ]
     },
     "execution_count": 12,
     "metadata": {},
     "output_type": "execute_result"
    },
    {
     "data": {
      "image/png": "[encoded data removed]",
      "text/plain": [
       "<Figure size 432x288 with 1 Axes>"
      ]
     },
     "metadata": {
      "needs_background": "light"
     },
     "output_type": "display_data"
    }
   ],
   "source": [
    "df['Placements'].hist()"
   ]
  },
  {
   "cell_type": "code",
   "execution_count": 13,
   "id": "a4a80ad8",
   "metadata": {
    "ExecuteTime": {
     "end_time": "2022-07-29T12:08:53.652184Z",
     "start_time": "2022-07-29T12:08:53.639157Z"
    }
   },
   "outputs": [
    {
     "data": {
      "text/plain": [
       "array(['A', 'B', 'C', 'D', 'E', 'F', 'G', 'H', 'I', 'J', 'K', 'L', 'M',\n",
       "       'N', 'O', 'P', 'Q', 'R', 'S', 'T', 'U', 'V', 'W', 'X', 'Y', 'Z'],\n",
       "      dtype=object)"
      ]
     },
     "execution_count": 13,
     "metadata": {},
     "output_type": "execute_result"
    }
   ],
   "source": [
    "df['Engg_College'].unique()"
   ]
  },
  {
   "cell_type": "code",
   "execution_count": 14,
   "id": "a903869f",
   "metadata": {
    "ExecuteTime": {
     "end_time": "2022-07-29T12:08:53.667180Z",
     "start_time": "2022-07-29T12:08:53.654119Z"
    }
   },
   "outputs": [
    {
     "data": {
      "text/plain": [
       "A    0.038462\n",
       "B    0.038462\n",
       "Y    0.038462\n",
       "X    0.038462\n",
       "W    0.038462\n",
       "V    0.038462\n",
       "U    0.038462\n",
       "T    0.038462\n",
       "S    0.038462\n",
       "R    0.038462\n",
       "Q    0.038462\n",
       "P    0.038462\n",
       "O    0.038462\n",
       "N    0.038462\n",
       "M    0.038462\n",
       "L    0.038462\n",
       "K    0.038462\n",
       "J    0.038462\n",
       "I    0.038462\n",
       "H    0.038462\n",
       "G    0.038462\n",
       "F    0.038462\n",
       "E    0.038462\n",
       "D    0.038462\n",
       "C    0.038462\n",
       "Z    0.038462\n",
       "Name: Engg_College, dtype: float64"
      ]
     },
     "execution_count": 14,
     "metadata": {},
     "output_type": "execute_result"
    }
   ],
   "source": [
    "df['Engg_College'].value_counts(normalize=True)"
   ]
  },
  {
   "cell_type": "code",
   "execution_count": 15,
   "id": "866e31bb",
   "metadata": {
    "ExecuteTime": {
     "end_time": "2022-07-29T12:08:53.888130Z",
     "start_time": "2022-07-29T12:08:53.671232Z"
    }
   },
   "outputs": [
    {
     "data": {
      "text/plain": [
       "<AxesSubplot:>"
      ]
     },
     "execution_count": 15,
     "metadata": {},
     "output_type": "execute_result"
    },
    {
     "data": {
      "image/png": "[encoded data removed]",
      "text/plain": [
       "<Figure size 432x288 with 1 Axes>"
      ]
     },
     "metadata": {
      "needs_background": "light"
     },
     "output_type": "display_data"
    }
   ],
   "source": [
    "sns.heatmap(df.isnull(),cbar=False,cmap='viridis')"
   ]
  },
  {
   "cell_type": "markdown",
   "id": "f8e84364",
   "metadata": {},
   "source": [
    "## Asking Analytical Questions and Visualizations"
   ]
  },
  {
   "cell_type": "code",
   "execution_count": 16,
   "id": "43bf774b",
   "metadata": {
    "ExecuteTime": {
     "end_time": "2022-07-29T12:08:54.360160Z",
     "start_time": "2022-07-29T12:08:53.893185Z"
    }
   },
   "outputs": [
    {
     "data": {
      "text/plain": [
       "<AxesSubplot:>"
      ]
     },
     "execution_count": 16,
     "metadata": {},
     "output_type": "execute_result"
    },
    {
     "data": {
      "image/png": "[encoded data removed]",
      "text/plain": [
       "<Figure size 720x720 with 2 Axes>"
      ]
     },
     "metadata": {
      "needs_background": "light"
     },
     "output_type": "display_data"
    }
   ],
   "source": [
    "plt.figure(figsize=(10,10))\n",
    "sns.heatmap(df.corr(),cbar=True,annot=True,cmap='Blues')"
   ]
  },
  {
   "cell_type": "code",
   "execution_count": 21,
   "id": "4f885679",
   "metadata": {
    "ExecuteTime": {
     "end_time": "2022-07-29T12:20:44.384253Z",
     "start_time": "2022-07-29T12:20:44.350343Z"
    }
   },
   "outputs": [
    {
     "data": {
      "text/html": [
       "<div>\n",
       "<style scoped>\n",
       "    .dataframe tbody tr th:only-of-type {\n",
       "        vertical-align: middle;\n",
       "    }\n",
       "\n",
       "    .dataframe tbody tr th {\n",
       "        vertical-align: top;\n",
       "    }\n",
       "\n",
       "    .dataframe thead th {\n",
       "        text-align: right;\n",
       "    }\n",
       "</style>\n",
       "<table border=\"1\" class=\"dataframe\">\n",
       "  <thead>\n",
       "    <tr style=\"text-align: right;\">\n",
       "      <th></th>\n",
       "      <th>SR_NO</th>\n",
       "      <th>Teaching</th>\n",
       "      <th>Fees</th>\n",
       "      <th>Placements</th>\n",
       "      <th>Internship</th>\n",
       "      <th>Infrastructure</th>\n",
       "    </tr>\n",
       "  </thead>\n",
       "  <tbody>\n",
       "    <tr>\n",
       "      <th>0</th>\n",
       "      <td>1</td>\n",
       "      <td>5</td>\n",
       "      <td>2</td>\n",
       "      <td>5</td>\n",
       "      <td>5</td>\n",
       "      <td>3</td>\n",
       "    </tr>\n",
       "    <tr>\n",
       "      <th>1</th>\n",
       "      <td>2</td>\n",
       "      <td>4</td>\n",
       "      <td>2</td>\n",
       "      <td>5</td>\n",
       "      <td>5</td>\n",
       "      <td>3</td>\n",
       "    </tr>\n",
       "    <tr>\n",
       "      <th>2</th>\n",
       "      <td>3</td>\n",
       "      <td>4</td>\n",
       "      <td>5</td>\n",
       "      <td>5</td>\n",
       "      <td>4</td>\n",
       "      <td>5</td>\n",
       "    </tr>\n",
       "    <tr>\n",
       "      <th>3</th>\n",
       "      <td>4</td>\n",
       "      <td>5</td>\n",
       "      <td>4</td>\n",
       "      <td>5</td>\n",
       "      <td>4</td>\n",
       "      <td>4</td>\n",
       "    </tr>\n",
       "    <tr>\n",
       "      <th>4</th>\n",
       "      <td>5</td>\n",
       "      <td>2</td>\n",
       "      <td>5</td>\n",
       "      <td>2</td>\n",
       "      <td>2</td>\n",
       "      <td>5</td>\n",
       "    </tr>\n",
       "  </tbody>\n",
       "</table>\n",
       "</div>"
      ],
      "text/plain": [
       "   SR_NO  Teaching  Fees  Placements  Internship  Infrastructure\n",
       "0      1         5     2           5           5               3\n",
       "1      2         4     2           5           5               3\n",
       "2      3         4     5           5           4               5\n",
       "3      4         5     4           5           4               4\n",
       "4      5         2     5           2           2               5"
      ]
     },
     "execution_count": 21,
     "metadata": {},
     "output_type": "execute_result"
    }
   ],
   "source": [
    "df.drop(['Engg_College'],axis=1,inplace=True)\n",
    "df.head()"
   ]
  },
  {
   "cell_type": "markdown",
   "id": "67e76561",
   "metadata": {},
   "source": [
    "# Hierarchical Clustering"
   ]
  },
  {
   "cell_type": "code",
   "execution_count": 24,
   "id": "674668db",
   "metadata": {
    "ExecuteTime": {
     "end_time": "2022-07-29T12:22:20.251292Z",
     "start_time": "2022-07-29T12:22:19.663641Z"
    }
   },
   "outputs": [
    {
     "data": {
      "image/png": "[encoded data removed]",
      "text/plain": [
       "<Figure size 720x504 with 1 Axes>"
      ]
     },
     "metadata": {
      "needs_background": "light"
     },
     "output_type": "display_data"
    }
   ],
   "source": [
    "import scipy.cluster.hierarchy as shc\n",
    "plt.figure(figsize=(10, 7))  \n",
    "plt.title(\"Dendrograms\")  \n",
    "dend = shc.dendrogram(shc.linkage(df, method='ward'))"
   ]
  },
  {
   "cell_type": "code",
   "execution_count": 32,
   "id": "e7b07bc9",
   "metadata": {
    "ExecuteTime": {
     "end_time": "2022-07-29T12:25:40.876118Z",
     "start_time": "2022-07-29T12:25:40.339485Z"
    }
   },
   "outputs": [
    {
     "data": {
      "text/plain": [
       "<matplotlib.lines.Line2D at 0x1ca4bcb4940>"
      ]
     },
     "execution_count": 32,
     "metadata": {},
     "output_type": "execute_result"
    },
    {
     "data": {
      "image/png": "[encoded data removed]",
      "text/plain": [
       "<Figure size 720x504 with 1 Axes>"
      ]
     },
     "metadata": {
      "needs_background": "light"
     },
     "output_type": "display_data"
    }
   ],
   "source": [
    "plt.figure(figsize=(10, 7))  \n",
    "plt.title(\"Dendrograms\")  \n",
    "dend = shc.dendrogram(shc.linkage(df, method='ward'))\n",
    "plt.axhline(y=25, color='r', linestyle='--')"
   ]
  },
  {
   "cell_type": "code",
   "execution_count": 36,
   "id": "5d059a76",
   "metadata": {
    "ExecuteTime": {
     "end_time": "2022-07-29T12:28:51.687623Z",
     "start_time": "2022-07-29T12:28:50.607095Z"
    }
   },
   "outputs": [
    {
     "data": {
      "text/plain": [
       "array([1, 1, 1, 1, 1, 1, 1, 1, 1, 1, 1, 0, 0, 0, 0, 0, 0, 0, 0, 0, 0, 0,\n",
       "       0, 0, 0, 0], dtype=int64)"
      ]
     },
     "execution_count": 36,
     "metadata": {},
     "output_type": "execute_result"
    }
   ],
   "source": [
    "from sklearn.cluster import AgglomerativeClustering\n",
    "cluster = AgglomerativeClustering(n_clusters=2, affinity='euclidean', linkage='ward')  \n",
    "cluster.fit_predict(df)"
   ]
  },
  {
   "cell_type": "code",
   "execution_count": 57,
   "id": "35a3f89a",
   "metadata": {
    "ExecuteTime": {
     "end_time": "2022-07-29T13:30:06.537691Z",
     "start_time": "2022-07-29T13:30:06.399231Z"
    }
   },
   "outputs": [
    {
     "data": {
      "text/plain": [
       "<matplotlib.collections.PathCollection at 0x1ca4d9c25b0>"
      ]
     },
     "execution_count": 57,
     "metadata": {},
     "output_type": "execute_result"
    },
    {
     "data": {
      "image/png": "[encoded data removed]",
      "text/plain": [
       "<Figure size 720x504 with 1 Axes>"
      ]
     },
     "metadata": {
      "needs_background": "light"
     },
     "output_type": "display_data"
    }
   ],
   "source": [
    "plt.figure(figsize=(10, 7))  \n",
    "plt.scatter(df['Fees'], df['Placements'], c=cluster.labels_) "
   ]
  },
  {
   "cell_type": "code",
   "execution_count": null,
   "id": "24ccd5a7",
   "metadata": {},
   "outputs": [],
   "source": []
  }
 ],
 "metadata": {
  "kernelspec": {
   "display_name": "Python 3 (ipykernel)",
   "language": "python",
   "name": "python3"
  },
  "language_info": {
   "codemirror_mode": {
    "name": "ipython",
    "version": 3
   },
   "file_extension": ".py",
   "mimetype": "text/x-python",
   "name": "python",
   "nbconvert_exporter": "python",
   "pygments_lexer": "ipython3",
   "version": "3.9.7"
  },
  "toc": {
   "base_numbering": 1,
   "nav_menu": {},
   "number_sections": true,
   "sideBar": true,
   "skip_h1_title": false,
   "title_cell": "Table of Contents",
   "title_sidebar": "Contents",
   "toc_cell": false,
   "toc_position": {},
   "toc_section_display": true,
   "toc_window_display": false
  }
 },
 "nbformat": 4,
 "nbformat_minor": 5
}
